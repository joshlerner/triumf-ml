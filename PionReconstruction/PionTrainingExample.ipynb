{
 "cells": [
  {
   "cell_type": "code",
   "execution_count": 1,
   "id": "d6e2698c-8b28-4191-86aa-db41cd73329a",
   "metadata": {},
   "outputs": [],
   "source": [
    "\n",
    "%load_ext autoreload\n",
    "%autoreload 2\n"
   ]
  },
  {
   "cell_type": "code",
   "execution_count": 2,
   "id": "f9464f8b-7428-4fcb-8dde-92f72d25a43a",
   "metadata": {},
   "outputs": [],
   "source": [
    "import numpy as np\n",
    "import pickle\n",
    "import matplotlib.pyplot as plt"
   ]
  },
  {
   "cell_type": "code",
   "execution_count": 3,
   "id": "973a7b67-3a1a-4949-9be5-6e79635a1dd7",
   "metadata": {},
   "outputs": [],
   "source": [
    "import os\n",
    "os.environ['CUDA_VISIBLE_DEVICES'] = \"2\"\n",
    "os.environ['TF_FORCE_GPU_ALLOW_GROWTH'] = 'true'\n",
    "\n",
    "#RUN BEFORE#"
   ]
  },
  {
   "cell_type": "code",
   "execution_count": 4,
   "id": "83399097-1891-48d2-a523-897113f197c0",
   "metadata": {},
   "outputs": [],
   "source": [
    "#RUN AFTER#\n",
    "\n",
    "import tensorflow.keras as keras\n",
    "K = keras.backend\n",
    "from util.Models import *\n",
    "from util.Generators import *\n"
   ]
  },
  {
   "cell_type": "code",
   "execution_count": 5,
   "id": "762532cb-f6d9-4dc7-b2e3-f904d7c3abd0",
   "metadata": {},
   "outputs": [],
   "source": [
    "\n",
    "data_path = '/fast_scratch_1/atlas_images/v01-45/'\n",
    "\n",
    "cell_geo_path = data_path + 'cell_geo.root'\n",
    "\n",
    "out_path = '/fast_scratch_1/jlerner/data/'\n"
   ]
  },
  {
   "cell_type": "code",
   "execution_count": 6,
   "id": "fd5aae87-2505-4b09-9a0f-fc19b0e39c60",
   "metadata": {},
   "outputs": [
    {
     "name": "stderr",
     "output_type": "stream",
     "text": [
      "2023-05-23 13:59:23.752524: W tensorflow/core/common_runtime/gpu/gpu_bfc_allocator.cc:39] Overriding allow_growth setting because the TF_FORCE_GPU_ALLOW_GROWTH environment variable is set. Original config value was 0.\n",
      "2023-05-23 13:59:23.752608: I tensorflow/core/common_runtime/gpu/gpu_device.cc:1510] Created device /job:localhost/replica:0/task:0/device:GPU:0 with 9671 MB memory:  -> device: 0, name: NVIDIA GeForce RTX 2080 Ti, pci bus id: 0000:3d:00.0, compute capability: 7.5\n"
     ]
    },
    {
     "name": "stdout",
     "output_type": "stream",
     "text": [
      "Model: \"gar_net_model\"\n",
      "__________________________________________________________________________________________________\n",
      "Layer (type)                    Output Shape         Param #     Connected to                     \n",
      "==================================================================================================\n",
      "input_1 (InputLayer)            [(None, 128, 4)]     0                                            \n",
      "__________________________________________________________________________________________________\n",
      "input_gex (GlobalExchange)      (None, 128, 8)       0           input_1[0][0]                    \n",
      "__________________________________________________________________________________________________\n",
      "input_batchnorm (BatchNormaliza (None, 128, 8)       32          input_gex[0][0]                  \n",
      "__________________________________________________________________________________________________\n",
      "input_dense (Dense)             (None, 128, 8)       72          input_batchnorm[0][0]            \n",
      "__________________________________________________________________________________________________\n",
      "garnet_0 (GarNet)               (None, 128, 8)       372         input_dense[0][0]                \n",
      "__________________________________________________________________________________________________\n",
      "batchnorm_0 (BatchNormalization (None, 128, 8)       32          garnet_0[0][0]                   \n",
      "__________________________________________________________________________________________________\n",
      "garnet_1 (GarNet)               (None, 128, 8)       372         batchnorm_0[0][0]                \n",
      "__________________________________________________________________________________________________\n",
      "batchnorm_1 (BatchNormalization (None, 128, 8)       32          garnet_1[0][0]                   \n",
      "__________________________________________________________________________________________________\n",
      "garnet_2 (GarNet)               (None, 128, 16)      2280        batchnorm_1[0][0]                \n",
      "__________________________________________________________________________________________________\n",
      "batchnorm_2 (BatchNormalization (None, 128, 16)      64          garnet_2[0][0]                   \n",
      "__________________________________________________________________________________________________\n",
      "tf.concat (TFOpLambda)          (None, 128, 32)      0           batchnorm_0[0][0]                \n",
      "                                                                 batchnorm_1[0][0]                \n",
      "                                                                 batchnorm_2[0][0]                \n",
      "__________________________________________________________________________________________________\n",
      "tf.math.reduce_mean (TFOpLambda (None, 32)           0           tf.concat[0][0]                  \n",
      "__________________________________________________________________________________________________\n",
      "output_0 (Dense)                (None, 16)           528         tf.math.reduce_mean[0][0]        \n",
      "__________________________________________________________________________________________________\n",
      "output_1 (Dense)                (None, 8)            136         output_0[0][0]                   \n",
      "__________________________________________________________________________________________________\n",
      "classification (Dense)          (None, 2)            18          output_1[0][0]                   \n",
      "__________________________________________________________________________________________________\n",
      "regression (Dense)              (None, 1)            9           output_1[0][0]                   \n",
      "__________________________________________________________________________________________________\n",
      "tf.concat_1 (TFOpLambda)        (None, 3)            0           classification[0][0]             \n",
      "                                                                 regression[0][0]                 \n",
      "==================================================================================================\n",
      "Total params: 3,947\n",
      "Trainable params: 3,867\n",
      "Non-trainable params: 80\n",
      "__________________________________________________________________________________________________\n"
     ]
    }
   ],
   "source": [
    "\n",
    "K.clear_session()\n",
    "model = GarNetModel()\n"
   ]
  },
  {
   "cell_type": "code",
   "execution_count": 7,
   "id": "092d59de-a158-4660-9ec1-e63bb01b86d6",
   "metadata": {},
   "outputs": [],
   "source": [
    "\n",
    "train_val_split = 0.8\n",
    "batch_size = 300\n",
    "\n",
    "pi0_list = [[data_path + f'pi0/user.angerami.24559740.OutputStream._000{i:03d}.root', 1] \n",
    "            for i in list(range(11, 113)) + list(range(116, 218))]\n",
    "pipm_list = [[data_path + f'pipm/user.angerami.24559744.OutputStream._000{i:03d}.root', 0] \n",
    "             for i in list(range(11, 113)) + list(range(116, 218))]\n",
    "\n",
    "train_start = 0\n",
    "train_end = train_start + int(train_val_split*len(pi0_list))\n",
    "val_start = train_end\n",
    "val_end = len(pi0_list)\n",
    "train_file_list = np.concatenate((pi0_list[train_start:train_end], pipm_list[train_start:train_end]))\n",
    "val_file_list = np.concatenate((pi0_list[val_start:val_end], pipm_list[val_start:val_end]))\n"
   ]
  },
  {
   "cell_type": "code",
   "execution_count": 8,
   "id": "3490dc2f-c1c9-4623-81dd-aacfa247d823",
   "metadata": {},
   "outputs": [
    {
     "name": "stdout",
     "output_type": "stream",
     "text": [
      "\n",
      "Loading Geo Dictionary...\n",
      "\tStarting on cell_geo_sampling\n",
      "\tStarting on cell_geo_eta\n",
      "\tStarting on cell_geo_phi\n",
      "Finished loading Geo Dictionary\n",
      "\n",
      "Preprocessing and saving data to /fast_scratch_1/jlerner/data/train/\n",
      "\n",
      "Preprocessing and saving data to /fast_scratch_1/jlerner/data/val/\n"
     ]
    }
   ],
   "source": [
    "\n",
    "train_generator = garnetDataGenerator(train_file_list, \n",
    "                                      cell_geo_path, \n",
    "                                      batch_size, \n",
    "                                      labeled=True, \n",
    "                                      preprocess=True, \n",
    "                                      output_dir=out_path + 'train/')\n",
    "\n",
    "validation_generator = garnetDataGenerator(val_file_list, \n",
    "                                           train_generator.geo_dict, \n",
    "                                           batch_size, \n",
    "                                           labeled=True, \n",
    "                                           preprocess=True, \n",
    "                                           output_dir=out_path + 'val/')\n"
   ]
  },
  {
   "cell_type": "code",
   "execution_count": 9,
   "id": "10038910-c3c4-4d98-9b29-a963f035e677",
   "metadata": {},
   "outputs": [
    {
     "name": "stderr",
     "output_type": "stream",
     "text": [
      "2023-05-23 14:13:11.047698: I tensorflow/compiler/mlir/mlir_graph_optimization_pass.cc:185] None of the MLIR Optimization Passes are enabled (registered 2)\n"
     ]
    },
    {
     "name": "stdout",
     "output_type": "stream",
     "text": [
      "Epoch 1/100\n",
      "200/200 - 7s - loss: 1.4906 - accuracy: 0.5009 - val_loss: 1.2013 - val_accuracy: 0.6606\n",
      "Epoch 2/100\n",
      "200/200 - 3s - loss: 0.7334 - accuracy: 0.7090 - val_loss: 0.9804 - val_accuracy: 0.7083\n",
      "Epoch 3/100\n",
      "200/200 - 3s - loss: 0.4275 - accuracy: 0.8099 - val_loss: 0.5381 - val_accuracy: 0.8064\n",
      "Epoch 4/100\n",
      "200/200 - 3s - loss: 0.3298 - accuracy: 0.8165 - val_loss: 0.3619 - val_accuracy: 0.8258\n",
      "Epoch 5/100\n",
      "200/200 - 3s - loss: 0.2717 - accuracy: 0.8120 - val_loss: 0.2637 - val_accuracy: 0.8194\n",
      "Epoch 6/100\n",
      "200/200 - 3s - loss: 0.2290 - accuracy: 0.8152 - val_loss: 0.2456 - val_accuracy: 0.8168\n",
      "Epoch 7/100\n",
      "200/200 - 3s - loss: 0.2166 - accuracy: 0.8156 - val_loss: 0.2182 - val_accuracy: 0.8224\n",
      "Epoch 8/100\n",
      "200/200 - 3s - loss: 0.2002 - accuracy: 0.8151 - val_loss: 0.2073 - val_accuracy: 0.8177\n",
      "Epoch 9/100\n",
      "200/200 - 3s - loss: 0.1902 - accuracy: 0.8179 - val_loss: 0.1975 - val_accuracy: 0.8153\n",
      "Epoch 10/100\n",
      "200/200 - 3s - loss: 0.1898 - accuracy: 0.8127 - val_loss: 0.1928 - val_accuracy: 0.8144\n",
      "Epoch 11/100\n",
      "200/200 - 3s - loss: 0.1904 - accuracy: 0.8143 - val_loss: 0.1891 - val_accuracy: 0.8255\n",
      "Epoch 12/100\n",
      "200/200 - 3s - loss: 0.1893 - accuracy: 0.8148 - val_loss: 0.1892 - val_accuracy: 0.8231\n",
      "Epoch 13/100\n",
      "200/200 - 3s - loss: 0.1780 - accuracy: 0.8117 - val_loss: 0.2051 - val_accuracy: 0.8236\n",
      "Epoch 14/100\n",
      "200/200 - 3s - loss: 0.1771 - accuracy: 0.8245 - val_loss: 0.1805 - val_accuracy: 0.8333\n",
      "Epoch 15/100\n",
      "200/200 - 3s - loss: 0.1710 - accuracy: 0.8242 - val_loss: 0.1856 - val_accuracy: 0.8288\n",
      "Epoch 16/100\n",
      "200/200 - 3s - loss: 0.1621 - accuracy: 0.8278 - val_loss: 0.1821 - val_accuracy: 0.8285\n",
      "Epoch 17/100\n",
      "200/200 - 3s - loss: 0.1630 - accuracy: 0.8310 - val_loss: 0.1671 - val_accuracy: 0.8240\n",
      "Epoch 18/100\n",
      "200/200 - 4s - loss: 0.1590 - accuracy: 0.8273 - val_loss: 0.1659 - val_accuracy: 0.8220\n",
      "Epoch 19/100\n",
      "200/200 - 3s - loss: 0.1500 - accuracy: 0.8168 - val_loss: 0.1465 - val_accuracy: 0.8236\n",
      "Epoch 20/100\n",
      "200/200 - 3s - loss: 0.1398 - accuracy: 0.8309 - val_loss: 0.1477 - val_accuracy: 0.8245\n",
      "Epoch 21/100\n",
      "200/200 - 3s - loss: 0.1368 - accuracy: 0.8249 - val_loss: 0.1475 - val_accuracy: 0.8219\n",
      "Epoch 22/100\n",
      "200/200 - 3s - loss: 0.1345 - accuracy: 0.8346 - val_loss: 0.1378 - val_accuracy: 0.8253\n",
      "Epoch 23/100\n",
      "200/200 - 3s - loss: 0.1410 - accuracy: 0.8307 - val_loss: 0.1292 - val_accuracy: 0.8326\n",
      "Epoch 24/100\n",
      "200/200 - 3s - loss: 0.1348 - accuracy: 0.8346 - val_loss: 0.1325 - val_accuracy: 0.8296\n",
      "Epoch 25/100\n",
      "200/200 - 3s - loss: 0.1273 - accuracy: 0.8297 - val_loss: 0.1284 - val_accuracy: 0.8334\n",
      "Epoch 26/100\n",
      "200/200 - 3s - loss: 0.1278 - accuracy: 0.8393 - val_loss: 0.1285 - val_accuracy: 0.8274\n",
      "Epoch 27/100\n",
      "200/200 - 3s - loss: 0.1257 - accuracy: 0.8345 - val_loss: 0.1239 - val_accuracy: 0.8283\n",
      "Epoch 28/100\n",
      "200/200 - 4s - loss: 0.1187 - accuracy: 0.8322 - val_loss: 0.1155 - val_accuracy: 0.8267\n",
      "Epoch 29/100\n",
      "200/200 - 3s - loss: 0.1213 - accuracy: 0.8413 - val_loss: 0.1112 - val_accuracy: 0.8363\n",
      "Epoch 30/100\n",
      "200/200 - 3s - loss: 0.1211 - accuracy: 0.8471 - val_loss: 0.1177 - val_accuracy: 0.8354\n",
      "Epoch 31/100\n",
      "200/200 - 3s - loss: 0.1095 - accuracy: 0.8475 - val_loss: 0.1101 - val_accuracy: 0.8439\n",
      "Epoch 32/100\n",
      "200/200 - 3s - loss: 0.1123 - accuracy: 0.8497 - val_loss: 0.1064 - val_accuracy: 0.8424\n",
      "Epoch 33/100\n",
      "200/200 - 3s - loss: 0.1089 - accuracy: 0.8570 - val_loss: 0.1059 - val_accuracy: 0.8498\n",
      "Epoch 34/100\n",
      "200/200 - 3s - loss: 0.1112 - accuracy: 0.8576 - val_loss: 0.1082 - val_accuracy: 0.8498\n",
      "Epoch 35/100\n",
      "200/200 - 3s - loss: 0.1062 - accuracy: 0.8601 - val_loss: 0.1064 - val_accuracy: 0.8492\n",
      "Epoch 36/100\n",
      "200/200 - 3s - loss: 0.1027 - accuracy: 0.8526 - val_loss: 0.1009 - val_accuracy: 0.8421\n",
      "Epoch 37/100\n",
      "200/200 - 3s - loss: 0.1020 - accuracy: 0.8463 - val_loss: 0.0996 - val_accuracy: 0.8390\n",
      "Epoch 38/100\n",
      "200/200 - 3s - loss: 0.0968 - accuracy: 0.8444 - val_loss: 0.1015 - val_accuracy: 0.8366\n",
      "Epoch 39/100\n",
      "200/200 - 3s - loss: 0.0984 - accuracy: 0.8446 - val_loss: 0.0941 - val_accuracy: 0.8427\n",
      "Epoch 40/100\n",
      "200/200 - 3s - loss: 0.0934 - accuracy: 0.8406 - val_loss: 0.0984 - val_accuracy: 0.8457\n",
      "Epoch 41/100\n",
      "200/200 - 3s - loss: 0.0937 - accuracy: 0.8412 - val_loss: 0.0989 - val_accuracy: 0.8388\n",
      "Epoch 42/100\n",
      "200/200 - 3s - loss: 0.0940 - accuracy: 0.8430 - val_loss: 0.0939 - val_accuracy: 0.8450\n",
      "Epoch 43/100\n",
      "200/200 - 3s - loss: 0.0908 - accuracy: 0.8420 - val_loss: 0.0942 - val_accuracy: 0.8388\n",
      "Epoch 44/100\n",
      "200/200 - 3s - loss: 0.0897 - accuracy: 0.8442 - val_loss: 0.0901 - val_accuracy: 0.8322\n",
      "Epoch 45/100\n",
      "200/200 - 3s - loss: 0.0891 - accuracy: 0.8403 - val_loss: 0.0958 - val_accuracy: 0.8219\n",
      "Epoch 46/100\n",
      "200/200 - 4s - loss: 0.0901 - accuracy: 0.8377 - val_loss: 0.0933 - val_accuracy: 0.8166\n",
      "Epoch 47/100\n",
      "200/200 - 3s - loss: 0.0872 - accuracy: 0.8322 - val_loss: 0.0901 - val_accuracy: 0.8245\n",
      "Epoch 48/100\n",
      "200/200 - 3s - loss: 0.0937 - accuracy: 0.8329 - val_loss: 0.0889 - val_accuracy: 0.8204\n",
      "Epoch 49/100\n",
      "200/200 - 3s - loss: 0.0812 - accuracy: 0.8358 - val_loss: 0.0981 - val_accuracy: 0.8249\n",
      "Epoch 50/100\n",
      "200/200 - 3s - loss: 0.0855 - accuracy: 0.8357 - val_loss: 0.1045 - val_accuracy: 0.8238\n",
      "Epoch 51/100\n",
      "200/200 - 3s - loss: 0.0851 - accuracy: 0.8387 - val_loss: 0.0994 - val_accuracy: 0.8174\n",
      "Epoch 52/100\n",
      "200/200 - 3s - loss: 0.0843 - accuracy: 0.8407 - val_loss: 0.0897 - val_accuracy: 0.8222\n",
      "Epoch 53/100\n",
      "200/200 - 3s - loss: 0.0811 - accuracy: 0.8372 - val_loss: 0.0844 - val_accuracy: 0.8252\n",
      "Epoch 54/100\n",
      "200/200 - 3s - loss: 0.0804 - accuracy: 0.8374 - val_loss: 0.0879 - val_accuracy: 0.8274\n",
      "Epoch 55/100\n",
      "200/200 - 3s - loss: 0.0811 - accuracy: 0.8411 - val_loss: 0.0935 - val_accuracy: 0.8253\n",
      "Epoch 56/100\n",
      "200/200 - 3s - loss: 0.0829 - accuracy: 0.8409 - val_loss: 0.0890 - val_accuracy: 0.8279\n",
      "Epoch 57/100\n",
      "200/200 - 3s - loss: 0.0809 - accuracy: 0.8419 - val_loss: 0.0876 - val_accuracy: 0.8208\n",
      "Epoch 58/100\n",
      "200/200 - 3s - loss: 0.0821 - accuracy: 0.8478 - val_loss: 0.0873 - val_accuracy: 0.8249\n",
      "Epoch 59/100\n",
      "200/200 - 3s - loss: 0.0828 - accuracy: 0.8432 - val_loss: 0.0900 - val_accuracy: 0.8288\n",
      "Epoch 60/100\n",
      "200/200 - 3s - loss: 0.0778 - accuracy: 0.8485 - val_loss: 0.0865 - val_accuracy: 0.8305\n",
      "Epoch 61/100\n",
      "200/200 - 3s - loss: 0.0795 - accuracy: 0.8486 - val_loss: 0.0825 - val_accuracy: 0.8274\n",
      "Epoch 62/100\n",
      "200/200 - 3s - loss: 0.0782 - accuracy: 0.8505 - val_loss: 0.0855 - val_accuracy: 0.8230\n",
      "Epoch 63/100\n",
      "200/200 - 3s - loss: 0.0800 - accuracy: 0.8482 - val_loss: 0.0938 - val_accuracy: 0.8250\n",
      "Epoch 64/100\n",
      "200/200 - 3s - loss: 0.0766 - accuracy: 0.8506 - val_loss: 0.1002 - val_accuracy: 0.8330\n",
      "Epoch 65/100\n",
      "200/200 - 3s - loss: 0.0765 - accuracy: 0.8489 - val_loss: 0.0817 - val_accuracy: 0.8275\n",
      "Epoch 66/100\n",
      "200/200 - 3s - loss: 0.0762 - accuracy: 0.8496 - val_loss: 0.1101 - val_accuracy: 0.8221\n",
      "Epoch 67/100\n",
      "200/200 - 3s - loss: 0.0772 - accuracy: 0.8544 - val_loss: 0.0871 - val_accuracy: 0.8305\n",
      "Epoch 68/100\n",
      "200/200 - 3s - loss: 0.0770 - accuracy: 0.8560 - val_loss: 0.0798 - val_accuracy: 0.8313\n",
      "Epoch 69/100\n",
      "200/200 - 3s - loss: 0.0772 - accuracy: 0.8601 - val_loss: 0.0909 - val_accuracy: 0.8403\n",
      "Epoch 70/100\n",
      "200/200 - 3s - loss: 0.0777 - accuracy: 0.8625 - val_loss: 0.0851 - val_accuracy: 0.8475\n",
      "Epoch 71/100\n",
      "200/200 - 3s - loss: 0.0775 - accuracy: 0.8602 - val_loss: 0.0837 - val_accuracy: 0.8484\n",
      "Epoch 72/100\n",
      "200/200 - 3s - loss: 0.0769 - accuracy: 0.8610 - val_loss: 0.1006 - val_accuracy: 0.8518\n",
      "Epoch 73/100\n",
      "200/200 - 3s - loss: 0.0782 - accuracy: 0.8689 - val_loss: 0.0848 - val_accuracy: 0.8495\n",
      "Epoch 74/100\n",
      "200/200 - 3s - loss: 0.0752 - accuracy: 0.8666 - val_loss: 0.0825 - val_accuracy: 0.8544\n",
      "Epoch 75/100\n",
      "200/200 - 3s - loss: 0.0744 - accuracy: 0.8673 - val_loss: 0.0839 - val_accuracy: 0.8546\n",
      "Epoch 76/100\n",
      "200/200 - 3s - loss: 0.0742 - accuracy: 0.8681 - val_loss: 0.0841 - val_accuracy: 0.8558\n",
      "Epoch 77/100\n",
      "200/200 - 3s - loss: 0.0763 - accuracy: 0.8668 - val_loss: 0.0806 - val_accuracy: 0.8535\n",
      "Epoch 78/100\n",
      "200/200 - 3s - loss: 0.0788 - accuracy: 0.8694 - val_loss: 0.0843 - val_accuracy: 0.8496\n",
      "Epoch 79/100\n",
      "200/200 - 3s - loss: 0.0785 - accuracy: 0.8691 - val_loss: 0.0924 - val_accuracy: 0.8306\n",
      "Epoch 80/100\n",
      "200/200 - 3s - loss: 0.0764 - accuracy: 0.8752 - val_loss: 0.0827 - val_accuracy: 0.8356\n",
      "Epoch 81/100\n",
      "200/200 - 3s - loss: 0.0751 - accuracy: 0.8771 - val_loss: 0.0861 - val_accuracy: 0.8300\n",
      "Epoch 82/100\n",
      "200/200 - 3s - loss: 0.0729 - accuracy: 0.8798 - val_loss: 0.0808 - val_accuracy: 0.8320\n",
      "Epoch 83/100\n",
      "200/200 - 3s - loss: 0.0741 - accuracy: 0.8807 - val_loss: 0.0994 - val_accuracy: 0.8414\n",
      "Epoch 84/100\n",
      "200/200 - 3s - loss: 0.0723 - accuracy: 0.8840 - val_loss: 0.0809 - val_accuracy: 0.8518\n",
      "Epoch 85/100\n",
      "200/200 - 3s - loss: 0.0726 - accuracy: 0.8840 - val_loss: 0.0773 - val_accuracy: 0.8466\n",
      "Epoch 86/100\n",
      "200/200 - 3s - loss: 0.0733 - accuracy: 0.8901 - val_loss: 0.0806 - val_accuracy: 0.8497\n",
      "Epoch 87/100\n",
      "200/200 - 3s - loss: 0.0736 - accuracy: 0.8957 - val_loss: 0.0810 - val_accuracy: 0.8504\n",
      "Epoch 88/100\n",
      "200/200 - 3s - loss: 0.0753 - accuracy: 0.8928 - val_loss: 0.0765 - val_accuracy: 0.8830\n",
      "Epoch 89/100\n",
      "200/200 - 3s - loss: 0.0731 - accuracy: 0.9007 - val_loss: 0.0757 - val_accuracy: 0.9211\n",
      "Epoch 90/100\n",
      "WARNING:tensorflow:Your input ran out of data; interrupting training. Make sure that your dataset or generator can generate at least `steps_per_epoch * epochs` batches (in this case, 80 batches). You may need to use the repeat() function when building your dataset.\n",
      "200/200 - 3s - loss: 0.0746 - accuracy: 0.9038 - val_loss: 0.0858 - val_accuracy: 0.9132\n",
      "Epoch 91/100\n",
      "200/200 - 2s - loss: 0.0740 - accuracy: 0.9053\n",
      "Epoch 92/100\n",
      "200/200 - 2s - loss: 0.0711 - accuracy: 0.9066\n",
      "Epoch 93/100\n",
      "200/200 - 2s - loss: 0.0725 - accuracy: 0.9100\n",
      "Epoch 94/100\n",
      "200/200 - 2s - loss: 0.0733 - accuracy: 0.9080\n",
      "Epoch 95/100\n",
      "200/200 - 2s - loss: 0.0740 - accuracy: 0.9098\n",
      "Epoch 96/100\n",
      "200/200 - 2s - loss: 0.0727 - accuracy: 0.9113\n",
      "Epoch 97/100\n",
      "200/200 - 2s - loss: 0.0702 - accuracy: 0.9141\n",
      "Epoch 98/100\n",
      "200/200 - 3s - loss: 0.0712 - accuracy: 0.9161\n",
      "Epoch 99/100\n",
      "200/200 - 3s - loss: 0.0713 - accuracy: 0.9129\n",
      "Epoch 100/100\n",
      "200/200 - 2s - loss: 0.0691 - accuracy: 0.9143\n"
     ]
    },
    {
     "name": "stderr",
     "output_type": "stream",
     "text": [
      "2023-05-23 14:18:10.294547: W tensorflow/python/util/util.cc:348] Sets are not currently considered sequences, but this may change in the future, so consider avoiding using them.\n",
      "WARNING:absl:Found untraced functions such as FLR_layer_call_fn, FLR_layer_call_and_return_conditional_losses, Fout_layer_call_fn, Fout_layer_call_and_return_conditional_losses, S_layer_call_fn while saving (showing 5 of 45). These functions will not be directly callable after loading.\n"
     ]
    },
    {
     "name": "stdout",
     "output_type": "stream",
     "text": [
      "INFO:tensorflow:Assets written to: /fast_scratch_1/jlerner/data/models/GarNet/assets\n"
     ]
    },
    {
     "name": "stderr",
     "output_type": "stream",
     "text": [
      "INFO:tensorflow:Assets written to: /fast_scratch_1/jlerner/data/models/GarNet/assets\n"
     ]
    }
   ],
   "source": [
    "\n",
    "history = model.fit(train_generator.generator(), \n",
    "                    validation_data=validation_generator.generator(),\n",
    "                    steps_per_epoch=200,\n",
    "                    validation_steps=80,\n",
    "                    shuffle=True,\n",
    "                    epochs=100,\n",
    "                    verbose=2)\n",
    "\n",
    "model.save(out_path + 'models/GarNet')\n",
    "\n",
    "with open(out_path + 'models/GarNet/history.pickle', 'wb') as handle:\n",
    "    pickle.dump(history.history, handle, protocol=pickle.HIGHEST_PROTOCOL)"
   ]
  },
  {
   "cell_type": "code",
   "execution_count": 10,
   "id": "3c0f3bd8-8ddf-4ee1-81bb-812b355d98a8",
   "metadata": {},
   "outputs": [
    {
     "data": {
      "image/png": "[encoded data removed]",
      "text/plain": [
       "<Figure size 432x288 with 1 Axes>"
      ]
     },
     "metadata": {
      "needs_background": "light"
     },
     "output_type": "display_data"
    }
   ],
   "source": [
    "\n",
    "plt.plot(history.history['loss'])\n",
    "plt.plot(history.history['val_loss'])\n",
    "plt.title('Model Loss')\n",
    "plt.ylabel('loss')\n",
    "plt.xlabel('epoch')\n",
    "plt.yscale('log')\n",
    "plt.legend(['train', 'val'], loc='upper right')\n",
    "plt.show()\n"
   ]
  },
  {
   "cell_type": "code",
   "execution_count": 11,
   "id": "0da0ac6c-6604-4af8-8f5f-5be8c78492b2",
   "metadata": {},
   "outputs": [
    {
     "data": {
      "image/png": "[encoded data removed]",
      "text/plain": [
       "<Figure size 432x288 with 1 Axes>"
      ]
     },
     "metadata": {
      "needs_background": "light"
     },
     "output_type": "display_data"
    }
   ],
   "source": [
    "plt.plot(history.history['accuracy'])\n",
    "plt.plot(history.history['val_accuracy'])\n",
    "plt.title('Model Accuracy')\n",
    "plt.ylabel('accuracy')\n",
    "plt.xlabel('epoch')\n",
    "plt.legend(['train', 'val'], loc='lower right')\n",
    "plt.show()"
   ]
  },
  {
   "cell_type": "code",
   "execution_count": null,
   "id": "997f04ed-b381-4984-add8-38b04c8a8b4e",
   "metadata": {},
   "outputs": [],
   "source": []
  }
 ],
 "metadata": {
  "kernelspec": {
   "display_name": "Python 3 (ipykernel)",
   "language": "python",
   "name": "python3"
  },
  "language_info": {
   "codemirror_mode": {
    "name": "ipython",
    "version": 3
   },
   "file_extension": ".py",
   "mimetype": "text/x-python",
   "name": "python",
   "nbconvert_exporter": "python",
   "pygments_lexer": "ipython3",
   "version": "3.8.10"
  }
 },
 "nbformat": 4,
 "nbformat_minor": 5
}
