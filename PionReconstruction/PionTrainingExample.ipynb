{
 "cells": [
  {
   "cell_type": "code",
   "execution_count": 1,
   "id": "d6e2698c-8b28-4191-86aa-db41cd73329a",
   "metadata": {},
   "outputs": [],
   "source": [
    "\n",
    "%load_ext autoreload\n",
    "%autoreload 2\n"
   ]
  },
  {
   "cell_type": "code",
   "execution_count": 2,
   "id": "f9464f8b-7428-4fcb-8dde-92f72d25a43a",
   "metadata": {},
   "outputs": [],
   "source": [
    "import numpy as np\n",
    "import pickle\n",
    "import matplotlib.pyplot as plt"
   ]
  },
  {
   "cell_type": "code",
   "execution_count": 3,
   "id": "973a7b67-3a1a-4949-9be5-6e79635a1dd7",
   "metadata": {},
   "outputs": [],
   "source": [
    "import os\n",
    "os.environ['CUDA_VISIBLE_DEVICES'] = \"2\"\n",
    "os.environ['TF_FORCE_GPU_ALLOW_GROWTH'] = 'true'\n",
    "\n",
    "#RUN BEFORE#"
   ]
  },
  {
   "cell_type": "code",
   "execution_count": 4,
   "id": "83399097-1891-48d2-a523-897113f197c0",
   "metadata": {},
   "outputs": [],
   "source": [
    "#RUN AFTER#\n",
    "\n",
    "import tensorflow.keras as keras\n",
    "K = keras.backend\n",
    "from util.Models import *\n",
    "from util.Generators import *\n",
    "import util.Plotting as plot\n"
   ]
  },
  {
   "cell_type": "code",
   "execution_count": 5,
   "id": "762532cb-f6d9-4dc7-b2e3-f904d7c3abd0",
   "metadata": {},
   "outputs": [],
   "source": [
    "\n",
    "data_path = '/fast_scratch_1/atlas_images/v01-45/'\n",
    "\n",
    "cell_geo_path = data_path + 'cell_geo.root'\n",
    "\n",
    "out_path = '/fast_scratch_1/jlerner/data/'\n"
   ]
  },
  {
   "cell_type": "code",
   "execution_count": 6,
   "id": "fd5aae87-2505-4b09-9a0f-fc19b0e39c60",
   "metadata": {},
   "outputs": [
    {
     "name": "stderr",
     "output_type": "stream",
     "text": [
      "2023-05-25 14:03:32.040532: W tensorflow/core/common_runtime/gpu/gpu_bfc_allocator.cc:39] Overriding allow_growth setting because the TF_FORCE_GPU_ALLOW_GROWTH environment variable is set. Original config value was 0.\n",
      "2023-05-25 14:03:32.040595: I tensorflow/core/common_runtime/gpu/gpu_device.cc:1510] Created device /job:localhost/replica:0/task:0/device:GPU:0 with 9671 MB memory:  -> device: 0, name: NVIDIA GeForce RTX 2080 Ti, pci bus id: 0000:3d:00.0, compute capability: 7.5\n"
     ]
    },
    {
     "name": "stdout",
     "output_type": "stream",
     "text": [
      "Model: \"gar_net_model\"\n",
      "__________________________________________________________________________________________________\n",
      "Layer (type)                    Output Shape         Param #     Connected to                     \n",
      "==================================================================================================\n",
      "input_1 (InputLayer)            [(None, 128, 4)]     0                                            \n",
      "__________________________________________________________________________________________________\n",
      "input_gex (GlobalExchange)      (None, 128, 8)       0           input_1[0][0]                    \n",
      "__________________________________________________________________________________________________\n",
      "input_batchnorm (BatchNormaliza (None, 128, 8)       32          input_gex[0][0]                  \n",
      "__________________________________________________________________________________________________\n",
      "input_dense (Dense)             (None, 128, 8)       72          input_batchnorm[0][0]            \n",
      "__________________________________________________________________________________________________\n",
      "garnet_0 (GarNet)               (None, 128, 8)       372         input_dense[0][0]                \n",
      "__________________________________________________________________________________________________\n",
      "batchnorm_0 (BatchNormalization (None, 128, 8)       32          garnet_0[0][0]                   \n",
      "__________________________________________________________________________________________________\n",
      "garnet_1 (GarNet)               (None, 128, 8)       372         batchnorm_0[0][0]                \n",
      "__________________________________________________________________________________________________\n",
      "batchnorm_1 (BatchNormalization (None, 128, 8)       32          garnet_1[0][0]                   \n",
      "__________________________________________________________________________________________________\n",
      "garnet_2 (GarNet)               (None, 128, 16)      2280        batchnorm_1[0][0]                \n",
      "__________________________________________________________________________________________________\n",
      "batchnorm_2 (BatchNormalization (None, 128, 16)      64          garnet_2[0][0]                   \n",
      "__________________________________________________________________________________________________\n",
      "tf.concat (TFOpLambda)          (None, 128, 32)      0           batchnorm_0[0][0]                \n",
      "                                                                 batchnorm_1[0][0]                \n",
      "                                                                 batchnorm_2[0][0]                \n",
      "__________________________________________________________________________________________________\n",
      "tf.math.reduce_mean (TFOpLambda (None, 32)           0           tf.concat[0][0]                  \n",
      "__________________________________________________________________________________________________\n",
      "output_0 (Dense)                (None, 16)           528         tf.math.reduce_mean[0][0]        \n",
      "__________________________________________________________________________________________________\n",
      "output_1 (Dense)                (None, 8)            136         output_0[0][0]                   \n",
      "__________________________________________________________________________________________________\n",
      "classification (Dense)          (None, 2)            18          output_1[0][0]                   \n",
      "__________________________________________________________________________________________________\n",
      "regression (Dense)              (None, 1)            9           output_1[0][0]                   \n",
      "__________________________________________________________________________________________________\n",
      "tf.concat_1 (TFOpLambda)        (None, 3)            0           classification[0][0]             \n",
      "                                                                 regression[0][0]                 \n",
      "==================================================================================================\n",
      "Total params: 3,947\n",
      "Trainable params: 3,867\n",
      "Non-trainable params: 80\n",
      "__________________________________________________________________________________________________\n"
     ]
    }
   ],
   "source": [
    "\n",
    "K.clear_session()\n",
    "model = GarNetModel(alpha=0.99)\n"
   ]
  },
  {
   "cell_type": "code",
   "execution_count": 7,
   "id": "092d59de-a158-4660-9ec1-e63bb01b86d6",
   "metadata": {},
   "outputs": [],
   "source": [
    "\n",
    "train_val_split = 0.8\n",
    "batch_size = 64\n",
    "\n",
    "pi0_list = [[data_path + f'pi0/user.angerami.24559740.OutputStream._000{i:03d}.root', 1] \n",
    "            for i in list(range(11, 113)) + list(range(116, 232))]\n",
    "pipm_list = [[data_path + f'pipm/user.angerami.24559744.OutputStream._000{i:03d}.root', 0] \n",
    "             for i in list(range(11, 113)) + list(range(116, 232))]\n",
    "\n",
    "np.random.shuffle(pi0_list)\n",
    "np.random.shuffle(pipm_list)\n",
    "\n",
    "train_start = 0\n",
    "train_end = train_start + int(train_val_split*len(pi0_list))\n",
    "val_start = train_end\n",
    "val_end = len(pi0_list)\n",
    "train_file_list = (pi0_list[train_start:train_end], pipm_list[train_start:train_end])\n",
    "val_file_list = (pi0_list[val_start:val_end], pipm_list[val_start:val_end])\n",
    "\n",
    "test_file_list = ([[data_path + f'pi0/user.angerami.24559740.OutputStream._000{i:03d}.root', 1] for i in range(232, 264)],\n",
    "                  [[data_path + f'pipm/user.angerami.24559744.OutputStream._000{i:03d}.root', 0] for i in range(232, 264)])\n"
   ]
  },
  {
   "cell_type": "code",
   "execution_count": 8,
   "id": "3490dc2f-c1c9-4623-81dd-aacfa247d823",
   "metadata": {},
   "outputs": [],
   "source": [
    "\n",
    "train_generator = garnetDataGenerator(train_file_list, \n",
    "                                      cell_geo_path, \n",
    "                                      batch_size, \n",
    "                                      labeled=True, \n",
    "                                      preprocess=False, \n",
    "                                      output_dir=out_path + 'train/')\n",
    "\n",
    "validation_generator = garnetDataGenerator(val_file_list, \n",
    "                                           cell_geo_path, \n",
    "                                           int(batch_size*(1 - train_val_split)/train_val_split), \n",
    "                                           labeled=True, \n",
    "                                           preprocess=False, \n",
    "                                           output_dir=out_path + 'val/')\n",
    "\n",
    "test_generator = garnetDataGenerator(test_file_list,\n",
    "                                     cell_geo_path,\n",
    "                                     batch_size=1000,\n",
    "                                     labeled=True,\n",
    "                                     preprocess=False,\n",
    "                                     output_dir=out_path + 'test/')\n"
   ]
  },
  {
   "cell_type": "code",
   "execution_count": 9,
   "id": "10038910-c3c4-4d98-9b29-a963f035e677",
   "metadata": {},
   "outputs": [
    {
     "name": "stderr",
     "output_type": "stream",
     "text": [
      "2023-05-25 14:03:37.471994: I tensorflow/compiler/mlir/mlir_graph_optimization_pass.cc:185] None of the MLIR Optimization Passes are enabled (registered 2)\n"
     ]
    },
    {
     "name": "stdout",
     "output_type": "stream",
     "text": [
      "Epoch 1/100\n",
      "800/800 - 24s - loss: 0.6222 - accuracy: 0.5558 - val_loss: 0.5697 - val_accuracy: 0.6340\n",
      "Epoch 2/100\n",
      "800/800 - 18s - loss: 0.5599 - accuracy: 0.6459 - val_loss: 0.5286 - val_accuracy: 0.6673\n",
      "Epoch 3/100\n",
      "800/800 - 18s - loss: 0.5481 - accuracy: 0.6524 - val_loss: 0.5559 - val_accuracy: 0.6553\n",
      "Epoch 4/100\n",
      "800/800 - 18s - loss: 0.5406 - accuracy: 0.6467 - val_loss: 0.5168 - val_accuracy: 0.6720\n",
      "Epoch 5/100\n",
      "800/800 - 18s - loss: 0.5335 - accuracy: 0.6592 - val_loss: 0.5275 - val_accuracy: 0.6740\n",
      "Epoch 6/100\n",
      "800/800 - 18s - loss: 0.5318 - accuracy: 0.6694 - val_loss: 0.4970 - val_accuracy: 0.7187\n",
      "Epoch 7/100\n",
      "800/800 - 18s - loss: 0.5143 - accuracy: 0.7163 - val_loss: 0.4916 - val_accuracy: 0.7313\n",
      "Epoch 8/100\n",
      "800/800 - 18s - loss: 0.4999 - accuracy: 0.7337 - val_loss: 0.4750 - val_accuracy: 0.7150\n",
      "Epoch 9/100\n",
      "800/800 - 18s - loss: 0.4926 - accuracy: 0.7314 - val_loss: 0.4899 - val_accuracy: 0.7640\n",
      "Epoch 10/100\n",
      "800/800 - 18s - loss: 0.4818 - accuracy: 0.7377 - val_loss: 0.4421 - val_accuracy: 0.7357\n",
      "Epoch 11/100\n",
      "800/800 - 18s - loss: 0.4622 - accuracy: 0.7462 - val_loss: 0.4497 - val_accuracy: 0.7167\n",
      "Epoch 12/100\n",
      "800/800 - 18s - loss: 0.4524 - accuracy: 0.7505 - val_loss: 0.4370 - val_accuracy: 0.7573\n",
      "Epoch 13/100\n",
      "800/800 - 18s - loss: 0.4437 - accuracy: 0.7579 - val_loss: 0.4029 - val_accuracy: 0.7757\n",
      "Epoch 14/100\n",
      "800/800 - 18s - loss: 0.4326 - accuracy: 0.7636 - val_loss: 0.4447 - val_accuracy: 0.7500\n",
      "Epoch 15/100\n",
      "800/800 - 18s - loss: 0.4326 - accuracy: 0.7648 - val_loss: 0.4186 - val_accuracy: 0.7627\n",
      "Epoch 16/100\n",
      "800/800 - 18s - loss: 0.4216 - accuracy: 0.7723 - val_loss: 0.4118 - val_accuracy: 0.7930\n",
      "Epoch 17/100\n",
      "800/800 - 18s - loss: 0.4306 - accuracy: 0.7741 - val_loss: 0.4502 - val_accuracy: 0.7547\n",
      "Epoch 18/100\n",
      "800/800 - 18s - loss: 0.4193 - accuracy: 0.7728 - val_loss: 0.4157 - val_accuracy: 0.7613\n",
      "Epoch 19/100\n",
      "800/800 - 17s - loss: 0.4212 - accuracy: 0.7785 - val_loss: 0.3870 - val_accuracy: 0.7950\n",
      "Epoch 20/100\n",
      "800/800 - 18s - loss: 0.4109 - accuracy: 0.7807 - val_loss: 0.4194 - val_accuracy: 0.7727\n",
      "Epoch 21/100\n",
      "800/800 - 18s - loss: 0.4107 - accuracy: 0.7755 - val_loss: 0.4118 - val_accuracy: 0.7743\n",
      "Epoch 22/100\n",
      "800/800 - 18s - loss: 0.4090 - accuracy: 0.7765 - val_loss: 0.4355 - val_accuracy: 0.7317\n",
      "Epoch 23/100\n",
      "800/800 - 18s - loss: 0.4129 - accuracy: 0.7684 - val_loss: 0.3939 - val_accuracy: 0.7690\n",
      "Epoch 24/100\n",
      "800/800 - 18s - loss: 0.3977 - accuracy: 0.7761 - val_loss: 0.4291 - val_accuracy: 0.7797\n",
      "Epoch 25/100\n",
      "800/800 - 18s - loss: 0.3994 - accuracy: 0.7803 - val_loss: 0.3983 - val_accuracy: 0.7640\n",
      "Epoch 26/100\n",
      "800/800 - 18s - loss: 0.4059 - accuracy: 0.7660 - val_loss: 0.3716 - val_accuracy: 0.7807\n",
      "Epoch 27/100\n",
      "800/800 - 18s - loss: 0.4061 - accuracy: 0.7666 - val_loss: 0.3915 - val_accuracy: 0.7693\n",
      "Epoch 28/100\n",
      "800/800 - 18s - loss: 0.4033 - accuracy: 0.7675 - val_loss: 0.3779 - val_accuracy: 0.7823\n",
      "Epoch 29/100\n",
      "800/800 - 18s - loss: 0.4025 - accuracy: 0.7726 - val_loss: 0.3734 - val_accuracy: 0.7737\n",
      "Epoch 30/100\n",
      "800/800 - 18s - loss: 0.3976 - accuracy: 0.7734 - val_loss: 0.3696 - val_accuracy: 0.7827\n",
      "Epoch 31/100\n",
      "800/800 - 18s - loss: 0.3957 - accuracy: 0.7738 - val_loss: 0.3918 - val_accuracy: 0.7760\n",
      "Epoch 32/100\n",
      "800/800 - 18s - loss: 0.3938 - accuracy: 0.7718 - val_loss: 0.3865 - val_accuracy: 0.7783\n",
      "Epoch 33/100\n",
      "800/800 - 18s - loss: 0.3996 - accuracy: 0.7712 - val_loss: 0.4143 - val_accuracy: 0.7703\n",
      "Epoch 34/100\n",
      "800/800 - 18s - loss: 0.3944 - accuracy: 0.7710 - val_loss: 0.3562 - val_accuracy: 0.7787\n",
      "Epoch 35/100\n",
      "800/800 - 17s - loss: 0.3912 - accuracy: 0.7787 - val_loss: 0.4148 - val_accuracy: 0.7600\n",
      "Epoch 36/100\n",
      "800/800 - 18s - loss: 0.3915 - accuracy: 0.7774 - val_loss: 0.3772 - val_accuracy: 0.7817\n",
      "Epoch 37/100\n",
      "800/800 - 18s - loss: 0.3897 - accuracy: 0.7776 - val_loss: 0.3787 - val_accuracy: 0.7827\n",
      "Epoch 38/100\n",
      "800/800 - 17s - loss: 0.3872 - accuracy: 0.7754 - val_loss: 0.3700 - val_accuracy: 0.7887\n",
      "Epoch 39/100\n",
      "800/800 - 18s - loss: 0.3944 - accuracy: 0.7782 - val_loss: 0.4226 - val_accuracy: 0.7730\n",
      "Epoch 40/100\n",
      "800/800 - 18s - loss: 0.3862 - accuracy: 0.7838 - val_loss: 0.3673 - val_accuracy: 0.7880\n",
      "Epoch 41/100\n",
      "800/800 - 18s - loss: 0.3914 - accuracy: 0.7746 - val_loss: 0.3830 - val_accuracy: 0.7817\n",
      "Epoch 42/100\n",
      "800/800 - 18s - loss: 0.3841 - accuracy: 0.7824 - val_loss: 0.4119 - val_accuracy: 0.7677\n",
      "Epoch 43/100\n",
      "800/800 - 18s - loss: 0.3879 - accuracy: 0.7838 - val_loss: 0.3741 - val_accuracy: 0.7797\n",
      "Epoch 44/100\n",
      "800/800 - 18s - loss: 0.3864 - accuracy: 0.7778 - val_loss: 0.3826 - val_accuracy: 0.7787\n",
      "Epoch 45/100\n",
      "800/800 - 18s - loss: 0.3907 - accuracy: 0.7770 - val_loss: 0.4197 - val_accuracy: 0.7820\n",
      "Epoch 46/100\n",
      "800/800 - 18s - loss: 0.3816 - accuracy: 0.7813 - val_loss: 0.3889 - val_accuracy: 0.7947\n",
      "Epoch 47/100\n",
      "800/800 - 18s - loss: 0.3835 - accuracy: 0.7808 - val_loss: 0.3631 - val_accuracy: 0.7897\n",
      "Epoch 48/100\n",
      "800/800 - 18s - loss: 0.3852 - accuracy: 0.7813 - val_loss: 0.4063 - val_accuracy: 0.7680\n",
      "Epoch 49/100\n",
      "800/800 - 17s - loss: 0.3853 - accuracy: 0.7825 - val_loss: 0.3451 - val_accuracy: 0.8080\n",
      "Epoch 50/100\n",
      "800/800 - 18s - loss: 0.3827 - accuracy: 0.7844 - val_loss: 0.4201 - val_accuracy: 0.7617\n",
      "Epoch 51/100\n",
      "800/800 - 18s - loss: 0.3812 - accuracy: 0.7849 - val_loss: 0.3952 - val_accuracy: 0.7637\n",
      "Epoch 52/100\n",
      "800/800 - 17s - loss: 0.3805 - accuracy: 0.7807 - val_loss: 0.3628 - val_accuracy: 0.7900\n",
      "Epoch 53/100\n",
      "800/800 - 17s - loss: 0.3872 - accuracy: 0.7827 - val_loss: 0.3622 - val_accuracy: 0.7907\n",
      "Epoch 54/100\n",
      "800/800 - 18s - loss: 0.3859 - accuracy: 0.7769 - val_loss: 0.3635 - val_accuracy: 0.8043\n",
      "Epoch 55/100\n",
      "800/800 - 18s - loss: 0.3858 - accuracy: 0.7764 - val_loss: 0.3458 - val_accuracy: 0.7953\n",
      "Epoch 56/100\n",
      "800/800 - 18s - loss: 0.3858 - accuracy: 0.7777 - val_loss: 0.3606 - val_accuracy: 0.7787\n",
      "Epoch 57/100\n",
      "800/800 - 18s - loss: 0.3808 - accuracy: 0.7761 - val_loss: 0.3416 - val_accuracy: 0.7920\n",
      "Epoch 58/100\n",
      "800/800 - 18s - loss: 0.3847 - accuracy: 0.7785 - val_loss: 0.3512 - val_accuracy: 0.7820\n",
      "Epoch 59/100\n",
      "800/800 - 18s - loss: 0.3801 - accuracy: 0.7858 - val_loss: 0.3536 - val_accuracy: 0.7853\n",
      "Epoch 60/100\n",
      "800/800 - 18s - loss: 0.3756 - accuracy: 0.7813 - val_loss: 0.3535 - val_accuracy: 0.8007\n",
      "Epoch 61/100\n",
      "800/800 - 18s - loss: 0.3806 - accuracy: 0.7791 - val_loss: 0.3876 - val_accuracy: 0.7640\n",
      "Epoch 62/100\n",
      "800/800 - 18s - loss: 0.3828 - accuracy: 0.7776 - val_loss: 0.3608 - val_accuracy: 0.7937\n",
      "Epoch 63/100\n",
      "800/800 - 17s - loss: 0.3762 - accuracy: 0.7784 - val_loss: 0.4076 - val_accuracy: 0.7740\n",
      "Epoch 64/100\n",
      "800/800 - 18s - loss: 0.3779 - accuracy: 0.7770 - val_loss: 0.3586 - val_accuracy: 0.7463\n",
      "Epoch 65/100\n",
      "800/800 - 17s - loss: 0.3837 - accuracy: 0.7722 - val_loss: 0.3813 - val_accuracy: 0.7710\n",
      "Epoch 66/100\n",
      "800/800 - 17s - loss: 0.3849 - accuracy: 0.7754 - val_loss: 0.3712 - val_accuracy: 0.7967\n",
      "Epoch 67/100\n",
      "800/800 - 18s - loss: 0.3804 - accuracy: 0.7738 - val_loss: 0.4132 - val_accuracy: 0.7770\n",
      "Epoch 68/100\n",
      "800/800 - 18s - loss: 0.3809 - accuracy: 0.7800 - val_loss: 0.3751 - val_accuracy: 0.7863\n",
      "Epoch 69/100\n",
      "800/800 - 17s - loss: 0.3748 - accuracy: 0.7788 - val_loss: 0.3731 - val_accuracy: 0.7953\n",
      "Epoch 70/100\n",
      "800/800 - 18s - loss: 0.3799 - accuracy: 0.7793 - val_loss: 0.3811 - val_accuracy: 0.7620\n",
      "Epoch 71/100\n",
      "800/800 - 18s - loss: 0.3773 - accuracy: 0.7805 - val_loss: 0.3807 - val_accuracy: 0.7663\n",
      "Epoch 72/100\n",
      "800/800 - 18s - loss: 0.3819 - accuracy: 0.7727 - val_loss: 0.3662 - val_accuracy: 0.7877\n",
      "Epoch 73/100\n",
      "800/800 - 18s - loss: 0.3740 - accuracy: 0.7821 - val_loss: 0.4068 - val_accuracy: 0.7770\n",
      "Epoch 74/100\n",
      "800/800 - 18s - loss: 0.3770 - accuracy: 0.7780 - val_loss: 0.3552 - val_accuracy: 0.7857\n",
      "Epoch 75/100\n",
      "800/800 - 18s - loss: 0.3789 - accuracy: 0.7744 - val_loss: 0.3898 - val_accuracy: 0.7837\n",
      "Epoch 76/100\n",
      "800/800 - 18s - loss: 0.3773 - accuracy: 0.7748 - val_loss: 0.3777 - val_accuracy: 0.7590\n",
      "Epoch 77/100\n",
      "800/800 - 17s - loss: 0.3790 - accuracy: 0.7761 - val_loss: 0.3725 - val_accuracy: 0.7777\n",
      "Epoch 78/100\n",
      "800/800 - 18s - loss: 0.3758 - accuracy: 0.7729 - val_loss: 0.3520 - val_accuracy: 0.7823\n",
      "Epoch 79/100\n",
      "800/800 - 17s - loss: 0.3795 - accuracy: 0.7723 - val_loss: 0.3767 - val_accuracy: 0.7953\n",
      "Epoch 80/100\n",
      "800/800 - 17s - loss: 0.3776 - accuracy: 0.7783 - val_loss: 0.3493 - val_accuracy: 0.7940\n",
      "Epoch 81/100\n",
      "800/800 - 17s - loss: 0.3763 - accuracy: 0.7784 - val_loss: 0.3795 - val_accuracy: 0.7570\n",
      "Epoch 82/100\n",
      "800/800 - 17s - loss: 0.3836 - accuracy: 0.7671 - val_loss: 0.3492 - val_accuracy: 0.8083\n",
      "Epoch 83/100\n",
      "800/800 - 18s - loss: 0.3820 - accuracy: 0.7641 - val_loss: 0.3622 - val_accuracy: 0.7763\n",
      "Epoch 84/100\n",
      "800/800 - 17s - loss: 0.3821 - accuracy: 0.7685 - val_loss: 0.3805 - val_accuracy: 0.7760\n",
      "Epoch 85/100\n",
      "800/800 - 18s - loss: 0.3734 - accuracy: 0.7731 - val_loss: 0.3467 - val_accuracy: 0.7813\n",
      "Epoch 86/100\n",
      "800/800 - 18s - loss: 0.3780 - accuracy: 0.7610 - val_loss: 0.3641 - val_accuracy: 0.7697\n",
      "Epoch 87/100\n",
      "800/800 - 17s - loss: 0.3769 - accuracy: 0.7722 - val_loss: 0.3952 - val_accuracy: 0.7790\n",
      "Epoch 88/100\n",
      "800/800 - 18s - loss: 0.3733 - accuracy: 0.7689 - val_loss: 0.3482 - val_accuracy: 0.7743\n",
      "Epoch 89/100\n",
      "800/800 - 18s - loss: 0.3777 - accuracy: 0.7636 - val_loss: 0.3543 - val_accuracy: 0.7750\n",
      "Epoch 90/100\n",
      "800/800 - 18s - loss: 0.3772 - accuracy: 0.7640 - val_loss: 0.3702 - val_accuracy: 0.7777\n",
      "Epoch 91/100\n",
      "800/800 - 17s - loss: 0.3705 - accuracy: 0.7676 - val_loss: 0.3586 - val_accuracy: 0.7857\n",
      "Epoch 92/100\n",
      "800/800 - 18s - loss: 0.3748 - accuracy: 0.7686 - val_loss: 0.3339 - val_accuracy: 0.7673\n",
      "Epoch 93/100\n",
      "800/800 - 18s - loss: 0.3748 - accuracy: 0.7694 - val_loss: 0.3488 - val_accuracy: 0.7877\n",
      "Epoch 94/100\n",
      "800/800 - 18s - loss: 0.3747 - accuracy: 0.7684 - val_loss: 0.3845 - val_accuracy: 0.7647\n",
      "Epoch 95/100\n",
      "800/800 - 18s - loss: 0.3766 - accuracy: 0.7675 - val_loss: 0.3622 - val_accuracy: 0.7410\n",
      "Epoch 96/100\n",
      "800/800 - 18s - loss: 0.3800 - accuracy: 0.7657 - val_loss: 0.3554 - val_accuracy: 0.7837\n",
      "Epoch 97/100\n",
      "800/800 - 17s - loss: 0.3761 - accuracy: 0.7633 - val_loss: 0.3560 - val_accuracy: 0.7767\n",
      "Epoch 98/100\n",
      "800/800 - 17s - loss: 0.3820 - accuracy: 0.7616 - val_loss: 0.3537 - val_accuracy: 0.7807\n",
      "Epoch 99/100\n",
      "800/800 - 17s - loss: 0.3806 - accuracy: 0.7641 - val_loss: 0.3635 - val_accuracy: 0.7860\n",
      "Epoch 100/100\n",
      "800/800 - 18s - loss: 0.3746 - accuracy: 0.7648 - val_loss: 0.3607 - val_accuracy: 0.7810\n"
     ]
    },
    {
     "name": "stderr",
     "output_type": "stream",
     "text": [
      "2023-05-25 14:33:15.888900: W tensorflow/python/util/util.cc:348] Sets are not currently considered sequences, but this may change in the future, so consider avoiding using them.\n",
      "WARNING:absl:Found untraced functions such as FLR_layer_call_fn, FLR_layer_call_and_return_conditional_losses, Fout_layer_call_fn, Fout_layer_call_and_return_conditional_losses, S_layer_call_fn while saving (showing 5 of 45). These functions will not be directly callable after loading.\n"
     ]
    },
    {
     "name": "stdout",
     "output_type": "stream",
     "text": [
      "INFO:tensorflow:Assets written to: /fast_scratch_1/jlerner/data/models/GarNet/assets\n"
     ]
    },
    {
     "name": "stderr",
     "output_type": "stream",
     "text": [
      "INFO:tensorflow:Assets written to: /fast_scratch_1/jlerner/data/models/GarNet/assets\n"
     ]
    }
   ],
   "source": [
    "\n",
    "history = model.fit(train_generator.generator(), \n",
    "                    validation_data=validation_generator.generator(),\n",
    "                    steps_per_epoch=800,\n",
    "                    validation_steps=200,\n",
    "                    shuffle=True,\n",
    "                    epochs=100,\n",
    "                    verbose=2)\n",
    "\n",
    "model.save(out_path + 'models/GarNet')\n",
    "\n",
    "with open(out_path + 'models/GarNet/history.pickle', 'wb') as handle:\n",
    "    pickle.dump(history.history, handle, protocol=pickle.HIGHEST_PROTOCOL)"
   ]
  },
  {
   "cell_type": "code",
   "execution_count": 10,
   "id": "86a7f36c-1411-40f6-901f-86bfd70ee886",
   "metadata": {},
   "outputs": [
    {
     "data": {
      "image/png": "[encoded data removed]",
      "text/plain": [
       "<Figure size 432x288 with 1 Axes>"
      ]
     },
     "metadata": {
      "needs_background": "light"
     },
     "output_type": "display_data"
    }
   ],
   "source": [
    "plot.training_curve(history, 'loss')"
   ]
  },
  {
   "cell_type": "code",
   "execution_count": 11,
   "id": "acb1d0a8-75fa-4027-8f4d-9a4ed87841ba",
   "metadata": {},
   "outputs": [
    {
     "data": {
      "image/png": "[encoded data removed]",
      "text/plain": [
       "<Figure size 432x288 with 1 Axes>"
      ]
     },
     "metadata": {
      "needs_background": "light"
     },
     "output_type": "display_data"
    }
   ],
   "source": [
    "plot.training_curve(history, 'accuracy')"
   ]
  },
  {
   "cell_type": "code",
   "execution_count": 12,
   "id": "b90ec941-e0b2-4a4e-a2ba-5280572fdac4",
   "metadata": {},
   "outputs": [
    {
     "data": {
      "image/png": "[encoded data removed]",
      "text/plain": [
       "<Figure size 432x288 with 1 Axes>"
      ]
     },
     "metadata": {
      "needs_background": "light"
     },
     "output_type": "display_data"
    }
   ],
   "source": [
    "\n",
    "x, y = next(test_generator.generator())\n",
    "plot.ROC([(model.predict(x), y)], ['GarNet'])\n"
   ]
  },
  {
   "cell_type": "code",
   "execution_count": 13,
   "id": "953878e9-c647-417a-8af8-c965708e887b",
   "metadata": {},
   "outputs": [
    {
     "data": {
      "image/png": "[encoded data removed]",
      "text/plain": [
       "<Figure size 432x288 with 1 Axes>"
      ]
     },
     "metadata": {
      "needs_background": "light"
     },
     "output_type": "display_data"
    }
   ],
   "source": [
    "plot.efficiency([(model.predict(x), y)], ['GarNet'])"
   ]
  },
  {
   "cell_type": "code",
   "execution_count": null,
   "id": "381290cf-0fad-4f47-bec3-ed4a589e92cc",
   "metadata": {},
   "outputs": [],
   "source": []
  }
 ],
 "metadata": {
  "kernelspec": {
   "display_name": "Python 3 (ipykernel)",
   "language": "python",
   "name": "python3"
  },
  "language_info": {
   "codemirror_mode": {
    "name": "ipython",
    "version": 3
   },
   "file_extension": ".py",
   "mimetype": "text/x-python",
   "name": "python",
   "nbconvert_exporter": "python",
   "pygments_lexer": "ipython3",
   "version": "3.8.10"
  }
 },
 "nbformat": 4,
 "nbformat_minor": 5
}
