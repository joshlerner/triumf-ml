{
 "cells": [
  {
   "cell_type": "code",
   "execution_count": 1,
   "id": "d6e2698c-8b28-4191-86aa-db41cd73329a",
   "metadata": {},
   "outputs": [],
   "source": [
    "\n",
    "%load_ext autoreload\n",
    "%autoreload 2\n"
   ]
  },
  {
   "cell_type": "code",
   "execution_count": 2,
   "id": "f9464f8b-7428-4fcb-8dde-92f72d25a43a",
   "metadata": {},
   "outputs": [],
   "source": [
    "import numpy as np\n",
    "import pickle\n",
    "import matplotlib.pyplot as plt"
   ]
  },
  {
   "cell_type": "code",
   "execution_count": 3,
   "id": "973a7b67-3a1a-4949-9be5-6e79635a1dd7",
   "metadata": {},
   "outputs": [],
   "source": [
    "import os\n",
    "os.environ['CUDA_VISIBLE_DEVICES'] = \"2\"\n",
    "os.environ['TF_FORCE_GPU_ALLOW_GROWTH'] = 'true'\n",
    "\n",
    "#RUN BEFORE#"
   ]
  },
  {
   "cell_type": "code",
   "execution_count": 4,
   "id": "83399097-1891-48d2-a523-897113f197c0",
   "metadata": {},
   "outputs": [],
   "source": [
    "#RUN AFTER#\n",
    "\n",
    "import tensorflow.keras as keras\n",
    "K = keras.backend\n",
    "from util.Models import *\n",
    "from util.Generators import *\n",
    "import util.Plotting as plot\n"
   ]
  },
  {
   "cell_type": "code",
   "execution_count": 5,
   "id": "762532cb-f6d9-4dc7-b2e3-f904d7c3abd0",
   "metadata": {},
   "outputs": [],
   "source": [
    "\n",
    "data_path = '/fast_scratch_1/atlas_images/v01-45/'\n",
    "\n",
    "cell_geo_path = data_path + 'cell_geo.root'\n",
    "\n",
    "out_path = '/fast_scratch_1/jlerner/data/'\n"
   ]
  },
  {
   "cell_type": "code",
   "execution_count": 6,
   "id": "fd5aae87-2505-4b09-9a0f-fc19b0e39c60",
   "metadata": {},
   "outputs": [
    {
     "name": "stderr",
     "output_type": "stream",
     "text": [
      "2023-05-25 09:53:13.008237: W tensorflow/core/common_runtime/gpu/gpu_bfc_allocator.cc:39] Overriding allow_growth setting because the TF_FORCE_GPU_ALLOW_GROWTH environment variable is set. Original config value was 0.\n",
      "2023-05-25 09:53:13.008298: I tensorflow/core/common_runtime/gpu/gpu_device.cc:1510] Created device /job:localhost/replica:0/task:0/device:GPU:0 with 9671 MB memory:  -> device: 0, name: NVIDIA GeForce RTX 2080 Ti, pci bus id: 0000:3d:00.0, compute capability: 7.5\n"
     ]
    },
    {
     "name": "stdout",
     "output_type": "stream",
     "text": [
      "Model: \"gar_net_model\"\n",
      "__________________________________________________________________________________________________\n",
      "Layer (type)                    Output Shape         Param #     Connected to                     \n",
      "==================================================================================================\n",
      "input_1 (InputLayer)            [(None, 128, 4)]     0                                            \n",
      "__________________________________________________________________________________________________\n",
      "input_gex (GlobalExchange)      (None, 128, 8)       0           input_1[0][0]                    \n",
      "__________________________________________________________________________________________________\n",
      "input_batchnorm (BatchNormaliza (None, 128, 8)       32          input_gex[0][0]                  \n",
      "__________________________________________________________________________________________________\n",
      "input_dense (Dense)             (None, 128, 8)       72          input_batchnorm[0][0]            \n",
      "__________________________________________________________________________________________________\n",
      "garnet_0 (GarNet)               (None, 128, 8)       372         input_dense[0][0]                \n",
      "__________________________________________________________________________________________________\n",
      "batchnorm_0 (BatchNormalization (None, 128, 8)       32          garnet_0[0][0]                   \n",
      "__________________________________________________________________________________________________\n",
      "garnet_1 (GarNet)               (None, 128, 8)       372         batchnorm_0[0][0]                \n",
      "__________________________________________________________________________________________________\n",
      "batchnorm_1 (BatchNormalization (None, 128, 8)       32          garnet_1[0][0]                   \n",
      "__________________________________________________________________________________________________\n",
      "garnet_2 (GarNet)               (None, 128, 16)      2280        batchnorm_1[0][0]                \n",
      "__________________________________________________________________________________________________\n",
      "batchnorm_2 (BatchNormalization (None, 128, 16)      64          garnet_2[0][0]                   \n",
      "__________________________________________________________________________________________________\n",
      "tf.concat (TFOpLambda)          (None, 128, 32)      0           batchnorm_0[0][0]                \n",
      "                                                                 batchnorm_1[0][0]                \n",
      "                                                                 batchnorm_2[0][0]                \n",
      "__________________________________________________________________________________________________\n",
      "tf.math.reduce_mean (TFOpLambda (None, 32)           0           tf.concat[0][0]                  \n",
      "__________________________________________________________________________________________________\n",
      "output_0 (Dense)                (None, 16)           528         tf.math.reduce_mean[0][0]        \n",
      "__________________________________________________________________________________________________\n",
      "output_1 (Dense)                (None, 8)            136         output_0[0][0]                   \n",
      "__________________________________________________________________________________________________\n",
      "classification (Dense)          (None, 2)            18          output_1[0][0]                   \n",
      "__________________________________________________________________________________________________\n",
      "regression (Dense)              (None, 1)            9           output_1[0][0]                   \n",
      "__________________________________________________________________________________________________\n",
      "tf.concat_1 (TFOpLambda)        (None, 3)            0           classification[0][0]             \n",
      "                                                                 regression[0][0]                 \n",
      "==================================================================================================\n",
      "Total params: 3,947\n",
      "Trainable params: 3,867\n",
      "Non-trainable params: 80\n",
      "__________________________________________________________________________________________________\n"
     ]
    }
   ],
   "source": [
    "\n",
    "K.clear_session()\n",
    "model = GarNetModel()\n"
   ]
  },
  {
   "cell_type": "code",
   "execution_count": 7,
   "id": "092d59de-a158-4660-9ec1-e63bb01b86d6",
   "metadata": {},
   "outputs": [],
   "source": [
    "\n",
    "train_val_split = 0.8\n",
    "batch_size = 64\n",
    "\n",
    "pi0_list = [[data_path + f'pi0/user.angerami.24559740.OutputStream._000{i:03d}.root', 1] \n",
    "            for i in list(range(11, 113)) + list(range(116, 232))]\n",
    "pipm_list = [[data_path + f'pipm/user.angerami.24559744.OutputStream._000{i:03d}.root', 0] \n",
    "             for i in list(range(11, 113)) + list(range(116, 232))]\n",
    "\n",
    "np.random.shuffle(pi0_list)\n",
    "np.random.shuffle(pipm_list)\n",
    "\n",
    "train_start = 0\n",
    "train_end = train_start + int(train_val_split*len(pi0_list))\n",
    "val_start = train_end\n",
    "val_end = len(pi0_list)\n",
    "train_file_list = (pi0_list[train_start:train_end], pipm_list[train_start:train_end])\n",
    "val_file_list = (pi0_list[val_start:val_end], pipm_list[val_start:val_end])\n",
    "\n",
    "test_file_list = ([[data_path + f'pi0/user.angerami.24559740.OutputStream._000{i:03d}.root', 1] for i in range(232, 264)],\n",
    "                  [[data_path + f'pipm/user.angerami.24559744.OutputStream._000{i:03d}.root', 0] for i in range(232, 264)])\n"
   ]
  },
  {
   "cell_type": "code",
   "execution_count": 9,
   "id": "3490dc2f-c1c9-4623-81dd-aacfa247d823",
   "metadata": {},
   "outputs": [],
   "source": [
    "\n",
    "train_generator = garnetDataGenerator(train_file_list, \n",
    "                                      cell_geo_path, \n",
    "                                      batch_size, \n",
    "                                      labeled=True, \n",
    "                                      preprocess=False, \n",
    "                                      output_dir=out_path + 'train/')\n",
    "\n",
    "validation_generator = garnetDataGenerator(val_file_list, \n",
    "                                           cell_geo_path, \n",
    "                                           batch_size, #int(batch_size*(1 - train_val_split)/train_val_split), \n",
    "                                           labeled=True, \n",
    "                                           preprocess=False, \n",
    "                                           output_dir=out_path + 'val/')\n",
    "\n",
    "test_generator = garnetDataGenerator(test_file_list,\n",
    "                                     cell_geo_path,\n",
    "                                     batch_size=1000,\n",
    "                                     labeled=True,\n",
    "                                     preprocess=False,\n",
    "                                     output_dir=out_path + 'test/')\n"
   ]
  },
  {
   "cell_type": "code",
   "execution_count": 10,
   "id": "10038910-c3c4-4d98-9b29-a963f035e677",
   "metadata": {},
   "outputs": [
    {
     "name": "stderr",
     "output_type": "stream",
     "text": [
      "2023-05-25 09:54:11.649510: I tensorflow/compiler/mlir/mlir_graph_optimization_pass.cc:185] None of the MLIR Optimization Passes are enabled (registered 2)\n"
     ]
    },
    {
     "name": "stdout",
     "output_type": "stream",
     "text": [
      "Epoch 1/100\n",
      "400/400 - 15s - loss: 0.6457 - accuracy: 0.6208 - val_loss: 0.5600 - val_accuracy: 0.7131\n",
      "Epoch 2/100\n",
      "400/400 - 9s - loss: 0.3062 - accuracy: 0.7128 - val_loss: 0.3170 - val_accuracy: 0.7314\n",
      "Epoch 3/100\n",
      "400/400 - 9s - loss: 0.2583 - accuracy: 0.7269 - val_loss: 0.3888 - val_accuracy: 0.7381\n",
      "Epoch 4/100\n",
      "400/400 - 9s - loss: 0.2312 - accuracy: 0.7248 - val_loss: 0.1996 - val_accuracy: 0.7591\n",
      "Epoch 5/100\n",
      "400/400 - 9s - loss: 0.2148 - accuracy: 0.7191 - val_loss: 0.2160 - val_accuracy: 0.7422\n",
      "Epoch 6/100\n",
      "400/400 - 9s - loss: 0.2254 - accuracy: 0.7142 - val_loss: 0.4418 - val_accuracy: 0.7328\n",
      "Epoch 7/100\n",
      "400/400 - 9s - loss: 0.2035 - accuracy: 0.7343 - val_loss: 0.4783 - val_accuracy: 0.5961\n",
      "Epoch 8/100\n",
      "400/400 - 9s - loss: 0.1998 - accuracy: 0.7407 - val_loss: 0.4346 - val_accuracy: 0.7341\n",
      "Epoch 9/100\n",
      "400/400 - 9s - loss: 0.1764 - accuracy: 0.7397 - val_loss: 0.1614 - val_accuracy: 0.7441\n",
      "Epoch 10/100\n",
      "400/400 - 9s - loss: 0.1548 - accuracy: 0.7368 - val_loss: 0.1393 - val_accuracy: 0.7575\n",
      "Epoch 11/100\n",
      "400/400 - 9s - loss: 0.1410 - accuracy: 0.7462 - val_loss: 0.1205 - val_accuracy: 0.7594\n",
      "Epoch 12/100\n",
      "400/400 - 9s - loss: 0.1359 - accuracy: 0.7457 - val_loss: 0.1433 - val_accuracy: 0.7773\n",
      "Epoch 13/100\n",
      "400/400 - 9s - loss: 0.1318 - accuracy: 0.7538 - val_loss: 0.2883 - val_accuracy: 0.6263\n",
      "Epoch 14/100\n",
      "400/400 - 9s - loss: 0.1240 - accuracy: 0.7493 - val_loss: 0.1389 - val_accuracy: 0.7642\n",
      "Epoch 15/100\n",
      "400/400 - 9s - loss: 0.1226 - accuracy: 0.7523 - val_loss: 0.1097 - val_accuracy: 0.7345\n",
      "Epoch 16/100\n",
      "400/400 - 9s - loss: 0.1164 - accuracy: 0.7593 - val_loss: 0.1848 - val_accuracy: 0.7639\n",
      "Epoch 17/100\n",
      "400/400 - 9s - loss: 0.1164 - accuracy: 0.7521 - val_loss: 0.1293 - val_accuracy: 0.7580\n",
      "Epoch 18/100\n",
      "400/400 - 9s - loss: 0.1112 - accuracy: 0.7502 - val_loss: 0.1312 - val_accuracy: 0.7705\n",
      "Epoch 19/100\n",
      "400/400 - 9s - loss: 0.1138 - accuracy: 0.7496 - val_loss: 0.1231 - val_accuracy: 0.7606\n",
      "Epoch 20/100\n",
      "400/400 - 9s - loss: 0.1094 - accuracy: 0.7507 - val_loss: 0.1244 - val_accuracy: 0.7661\n",
      "Epoch 21/100\n",
      "400/400 - 9s - loss: 0.1089 - accuracy: 0.7591 - val_loss: 0.1124 - val_accuracy: 0.7722\n",
      "Epoch 22/100\n",
      "400/400 - 9s - loss: 0.1089 - accuracy: 0.7579 - val_loss: 0.0949 - val_accuracy: 0.7745\n",
      "Epoch 23/100\n",
      "400/400 - 9s - loss: 0.1056 - accuracy: 0.7610 - val_loss: 0.1062 - val_accuracy: 0.7755\n",
      "Epoch 24/100\n",
      "400/400 - 9s - loss: 0.1009 - accuracy: 0.7548 - val_loss: 0.1131 - val_accuracy: 0.7744\n",
      "Epoch 25/100\n",
      "400/400 - 9s - loss: 0.1043 - accuracy: 0.7581 - val_loss: 0.1003 - val_accuracy: 0.7717\n",
      "Epoch 26/100\n",
      "400/400 - 9s - loss: 0.1032 - accuracy: 0.7526 - val_loss: 0.0979 - val_accuracy: 0.7716\n",
      "Epoch 27/100\n",
      "400/400 - 8s - loss: 0.1015 - accuracy: 0.7637 - val_loss: 0.1233 - val_accuracy: 0.7855\n",
      "Epoch 28/100\n",
      "400/400 - 9s - loss: 0.1014 - accuracy: 0.7634 - val_loss: 0.1018 - val_accuracy: 0.7520\n",
      "Epoch 29/100\n",
      "400/400 - 9s - loss: 0.1012 - accuracy: 0.7699 - val_loss: 0.0962 - val_accuracy: 0.7694\n",
      "Epoch 30/100\n",
      "400/400 - 9s - loss: 0.0998 - accuracy: 0.7613 - val_loss: 0.1261 - val_accuracy: 0.7697\n",
      "Epoch 31/100\n",
      "400/400 - 9s - loss: 0.1015 - accuracy: 0.7653 - val_loss: 0.0961 - val_accuracy: 0.7495\n",
      "Epoch 32/100\n",
      "400/400 - 9s - loss: 0.0972 - accuracy: 0.7638 - val_loss: 0.1085 - val_accuracy: 0.7816\n",
      "Epoch 33/100\n",
      "400/400 - 9s - loss: 0.0951 - accuracy: 0.7557 - val_loss: 0.1060 - val_accuracy: 0.7725\n",
      "Epoch 34/100\n",
      "400/400 - 9s - loss: 0.0984 - accuracy: 0.7552 - val_loss: 0.0990 - val_accuracy: 0.7661\n",
      "Epoch 35/100\n",
      "400/400 - 9s - loss: 0.0953 - accuracy: 0.7563 - val_loss: 0.1289 - val_accuracy: 0.7653\n",
      "Epoch 36/100\n",
      "400/400 - 9s - loss: 0.0968 - accuracy: 0.7611 - val_loss: 0.1100 - val_accuracy: 0.7341\n",
      "Epoch 37/100\n",
      "400/400 - 9s - loss: 0.0948 - accuracy: 0.7584 - val_loss: 0.1539 - val_accuracy: 0.7622\n",
      "Epoch 38/100\n",
      "400/400 - 9s - loss: 0.0936 - accuracy: 0.7652 - val_loss: 0.1396 - val_accuracy: 0.7684\n",
      "Epoch 39/100\n",
      "400/400 - 9s - loss: 0.0977 - accuracy: 0.7648 - val_loss: 0.1250 - val_accuracy: 0.7684\n",
      "Epoch 40/100\n",
      "400/400 - 9s - loss: 0.0983 - accuracy: 0.7673 - val_loss: 0.1116 - val_accuracy: 0.7613\n",
      "Epoch 41/100\n",
      "400/400 - 9s - loss: 0.0948 - accuracy: 0.7601 - val_loss: 0.0991 - val_accuracy: 0.7748\n",
      "Epoch 42/100\n",
      "400/400 - 9s - loss: 0.0931 - accuracy: 0.7629 - val_loss: 0.1331 - val_accuracy: 0.7700\n",
      "Epoch 43/100\n",
      "400/400 - 9s - loss: 0.0937 - accuracy: 0.7674 - val_loss: 0.1185 - val_accuracy: 0.7755\n",
      "Epoch 44/100\n",
      "400/400 - 9s - loss: 0.0938 - accuracy: 0.7555 - val_loss: 0.1092 - val_accuracy: 0.7713\n",
      "Epoch 45/100\n",
      "400/400 - 9s - loss: 0.0903 - accuracy: 0.7539 - val_loss: 0.1485 - val_accuracy: 0.7583\n",
      "Epoch 46/100\n",
      "400/400 - 9s - loss: 0.0889 - accuracy: 0.7548 - val_loss: 0.1689 - val_accuracy: 0.7691\n",
      "Epoch 47/100\n",
      "400/400 - 9s - loss: 0.0934 - accuracy: 0.7570 - val_loss: 0.0853 - val_accuracy: 0.7698\n",
      "Epoch 48/100\n",
      "400/400 - 9s - loss: 0.0927 - accuracy: 0.7678 - val_loss: 0.1245 - val_accuracy: 0.7658\n",
      "Epoch 49/100\n",
      "400/400 - 9s - loss: 0.0943 - accuracy: 0.7689 - val_loss: 0.1624 - val_accuracy: 0.7608\n",
      "Epoch 50/100\n",
      "400/400 - 8s - loss: 0.0897 - accuracy: 0.7704 - val_loss: 0.1238 - val_accuracy: 0.7745\n",
      "Epoch 51/100\n",
      "400/400 - 9s - loss: 0.0925 - accuracy: 0.7661 - val_loss: 0.1387 - val_accuracy: 0.7652\n",
      "Epoch 52/100\n",
      "400/400 - 9s - loss: 0.0949 - accuracy: 0.7527 - val_loss: 0.1090 - val_accuracy: 0.7609\n",
      "Epoch 53/100\n",
      "400/400 - 9s - loss: 0.0920 - accuracy: 0.7535 - val_loss: 0.1154 - val_accuracy: 0.7631\n",
      "Epoch 54/100\n",
      "400/400 - 9s - loss: 0.0908 - accuracy: 0.7505 - val_loss: 0.1046 - val_accuracy: 0.7642\n",
      "Epoch 55/100\n",
      "400/400 - 10s - loss: 0.0945 - accuracy: 0.7519 - val_loss: 0.0885 - val_accuracy: 0.7733\n",
      "Epoch 56/100\n",
      "400/400 - 9s - loss: 0.0911 - accuracy: 0.7571 - val_loss: 0.1058 - val_accuracy: 0.7742\n",
      "Epoch 57/100\n",
      "400/400 - 9s - loss: 0.0916 - accuracy: 0.7527 - val_loss: 0.1195 - val_accuracy: 0.7711\n",
      "Epoch 58/100\n",
      "400/400 - 9s - loss: 0.0889 - accuracy: 0.7627 - val_loss: 0.0957 - val_accuracy: 0.7580\n",
      "Epoch 59/100\n",
      "400/400 - 9s - loss: 0.0902 - accuracy: 0.7608 - val_loss: 0.0915 - val_accuracy: 0.7658\n",
      "Epoch 60/100\n",
      "400/400 - 9s - loss: 0.0918 - accuracy: 0.7592 - val_loss: 0.1502 - val_accuracy: 0.7648\n",
      "Epoch 61/100\n",
      "400/400 - 9s - loss: 0.0868 - accuracy: 0.7645 - val_loss: 0.1041 - val_accuracy: 0.7692\n",
      "Epoch 62/100\n",
      "400/400 - 9s - loss: 0.0879 - accuracy: 0.7607 - val_loss: 0.2112 - val_accuracy: 0.7695\n",
      "Epoch 63/100\n",
      "400/400 - 9s - loss: 0.0898 - accuracy: 0.7621 - val_loss: 0.0843 - val_accuracy: 0.7664\n",
      "Epoch 64/100\n",
      "400/400 - 9s - loss: 0.0924 - accuracy: 0.7652 - val_loss: 0.1265 - val_accuracy: 0.7747\n",
      "Epoch 65/100\n",
      "400/400 - 9s - loss: 0.0882 - accuracy: 0.7643 - val_loss: 0.1508 - val_accuracy: 0.7641\n",
      "Epoch 66/100\n",
      "400/400 - 9s - loss: 0.0918 - accuracy: 0.7587 - val_loss: 0.1045 - val_accuracy: 0.7641\n",
      "Epoch 67/100\n",
      "400/400 - 9s - loss: 0.0891 - accuracy: 0.7643 - val_loss: 0.1362 - val_accuracy: 0.7673\n",
      "Epoch 68/100\n",
      "400/400 - 9s - loss: 0.0907 - accuracy: 0.7575 - val_loss: 0.1363 - val_accuracy: 0.7742\n",
      "Epoch 69/100\n",
      "400/400 - 9s - loss: 0.0868 - accuracy: 0.7584 - val_loss: 0.0995 - val_accuracy: 0.7486\n",
      "Epoch 70/100\n",
      "400/400 - 9s - loss: 0.0897 - accuracy: 0.7530 - val_loss: 0.1443 - val_accuracy: 0.7431\n",
      "Epoch 71/100\n",
      "400/400 - 9s - loss: 0.0863 - accuracy: 0.7609 - val_loss: 0.0976 - val_accuracy: 0.7650\n",
      "Epoch 72/100\n",
      "400/400 - 9s - loss: 0.0876 - accuracy: 0.7623 - val_loss: 0.0932 - val_accuracy: 0.7467\n",
      "Epoch 73/100\n",
      "400/400 - 9s - loss: 0.0910 - accuracy: 0.7618 - val_loss: 0.0782 - val_accuracy: 0.7552\n",
      "Epoch 74/100\n",
      "400/400 - 9s - loss: 0.0876 - accuracy: 0.7566 - val_loss: 0.0828 - val_accuracy: 0.7527\n",
      "Epoch 75/100\n",
      "400/400 - 9s - loss: 0.0876 - accuracy: 0.7552 - val_loss: 0.1229 - val_accuracy: 0.7634\n",
      "Epoch 76/100\n",
      "400/400 - 9s - loss: 0.0880 - accuracy: 0.7556 - val_loss: 0.0777 - val_accuracy: 0.7573\n",
      "Epoch 77/100\n",
      "400/400 - 9s - loss: 0.0896 - accuracy: 0.7531 - val_loss: 0.1374 - val_accuracy: 0.7480\n",
      "Epoch 78/100\n",
      "400/400 - 9s - loss: 0.0900 - accuracy: 0.7533 - val_loss: 0.1113 - val_accuracy: 0.7550\n",
      "Epoch 79/100\n",
      "400/400 - 9s - loss: 0.0860 - accuracy: 0.7617 - val_loss: 0.1595 - val_accuracy: 0.7481\n",
      "Epoch 80/100\n",
      "400/400 - 9s - loss: 0.0880 - accuracy: 0.7622 - val_loss: 0.1053 - val_accuracy: 0.7547\n",
      "Epoch 81/100\n",
      "400/400 - 9s - loss: 0.0848 - accuracy: 0.7620 - val_loss: 0.0920 - val_accuracy: 0.7645\n",
      "Epoch 82/100\n",
      "400/400 - 9s - loss: 0.0867 - accuracy: 0.7547 - val_loss: 0.0975 - val_accuracy: 0.7567\n",
      "Epoch 83/100\n",
      "400/400 - 9s - loss: 0.0839 - accuracy: 0.7588 - val_loss: 0.1389 - val_accuracy: 0.7727\n",
      "Epoch 84/100\n",
      "400/400 - 9s - loss: 0.0853 - accuracy: 0.7519 - val_loss: 0.0839 - val_accuracy: 0.7684\n",
      "Epoch 85/100\n",
      "400/400 - 9s - loss: 0.0870 - accuracy: 0.7573 - val_loss: 0.0945 - val_accuracy: 0.7656\n",
      "Epoch 86/100\n",
      "400/400 - 9s - loss: 0.0818 - accuracy: 0.7521 - val_loss: 0.0950 - val_accuracy: 0.7605\n",
      "Epoch 87/100\n",
      "400/400 - 9s - loss: 0.0836 - accuracy: 0.7507 - val_loss: 0.0876 - val_accuracy: 0.7509\n",
      "Epoch 88/100\n",
      "400/400 - 9s - loss: 0.0849 - accuracy: 0.7534 - val_loss: 0.1126 - val_accuracy: 0.7538\n",
      "Epoch 89/100\n",
      "400/400 - 9s - loss: 0.0829 - accuracy: 0.7537 - val_loss: 0.0751 - val_accuracy: 0.7487\n",
      "Epoch 90/100\n",
      "400/400 - 9s - loss: 0.0845 - accuracy: 0.7595 - val_loss: 0.1080 - val_accuracy: 0.7630\n",
      "Epoch 91/100\n",
      "400/400 - 9s - loss: 0.0843 - accuracy: 0.7599 - val_loss: 0.1204 - val_accuracy: 0.7833\n",
      "Epoch 92/100\n",
      "400/400 - 9s - loss: 0.0835 - accuracy: 0.7665 - val_loss: 0.0802 - val_accuracy: 0.7616\n",
      "Epoch 93/100\n",
      "400/400 - 9s - loss: 0.0823 - accuracy: 0.7619 - val_loss: 0.0755 - val_accuracy: 0.7592\n",
      "Epoch 94/100\n",
      "400/400 - 9s - loss: 0.0846 - accuracy: 0.7624 - val_loss: 0.0831 - val_accuracy: 0.7564\n",
      "Epoch 95/100\n",
      "400/400 - 9s - loss: 0.0838 - accuracy: 0.7548 - val_loss: 0.1172 - val_accuracy: 0.7672\n",
      "Epoch 96/100\n",
      "400/400 - 9s - loss: 0.0845 - accuracy: 0.7567 - val_loss: 0.0845 - val_accuracy: 0.7461\n",
      "Epoch 97/100\n",
      "400/400 - 9s - loss: 0.0850 - accuracy: 0.7603 - val_loss: 0.1058 - val_accuracy: 0.7638\n",
      "Epoch 98/100\n",
      "400/400 - 9s - loss: 0.0832 - accuracy: 0.7555 - val_loss: 0.0947 - val_accuracy: 0.7698\n",
      "Epoch 99/100\n",
      "400/400 - 9s - loss: 0.0816 - accuracy: 0.7646 - val_loss: 0.0909 - val_accuracy: 0.7794\n",
      "Epoch 100/100\n",
      "400/400 - 9s - loss: 0.0813 - accuracy: 0.7644 - val_loss: 0.0863 - val_accuracy: 0.7616\n"
     ]
    },
    {
     "name": "stderr",
     "output_type": "stream",
     "text": [
      "2023-05-25 10:09:31.557472: W tensorflow/python/util/util.cc:348] Sets are not currently considered sequences, but this may change in the future, so consider avoiding using them.\n",
      "WARNING:absl:Found untraced functions such as FLR_layer_call_fn, FLR_layer_call_and_return_conditional_losses, Fout_layer_call_fn, Fout_layer_call_and_return_conditional_losses, S_layer_call_fn while saving (showing 5 of 45). These functions will not be directly callable after loading.\n"
     ]
    },
    {
     "name": "stdout",
     "output_type": "stream",
     "text": [
      "INFO:tensorflow:Assets written to: /fast_scratch_1/jlerner/data/models/GarNet/assets\n"
     ]
    },
    {
     "name": "stderr",
     "output_type": "stream",
     "text": [
      "INFO:tensorflow:Assets written to: /fast_scratch_1/jlerner/data/models/GarNet/assets\n"
     ]
    }
   ],
   "source": [
    "\n",
    "history = model.fit(train_generator.generator(), \n",
    "                    validation_data=validation_generator.generator(),\n",
    "                    steps_per_epoch=400,\n",
    "                    validation_steps=100,\n",
    "                    shuffle=True,\n",
    "                    epochs=100,\n",
    "                    verbose=2)\n",
    "\n",
    "model.save(out_path + 'models/GarNet')\n",
    "\n",
    "with open(out_path + 'models/GarNet/history.pickle', 'wb') as handle:\n",
    "    pickle.dump(history.history, handle, protocol=pickle.HIGHEST_PROTOCOL)"
   ]
  },
  {
   "cell_type": "code",
   "execution_count": 13,
   "id": "86a7f36c-1411-40f6-901f-86bfd70ee886",
   "metadata": {},
   "outputs": [
    {
     "data": {
      "image/png": "[encoded data removed]",
      "text/plain": [
       "<Figure size 432x288 with 1 Axes>"
      ]
     },
     "metadata": {
      "needs_background": "light"
     },
     "output_type": "display_data"
    }
   ],
   "source": [
    "plot.training_curve(history, 'loss')"
   ]
  },
  {
   "cell_type": "code",
   "execution_count": 14,
   "id": "acb1d0a8-75fa-4027-8f4d-9a4ed87841ba",
   "metadata": {},
   "outputs": [
    {
     "data": {
      "image/png": "[encoded data removed]",
      "text/plain": [
       "<Figure size 432x288 with 1 Axes>"
      ]
     },
     "metadata": {
      "needs_background": "light"
     },
     "output_type": "display_data"
    }
   ],
   "source": [
    "plot.training_curve(history, 'accuracy')"
   ]
  },
  {
   "cell_type": "code",
   "execution_count": 12,
   "id": "b90ec941-e0b2-4a4e-a2ba-5280572fdac4",
   "metadata": {},
   "outputs": [
    {
     "data": {
      "image/png": "[encoded data removed]",
      "text/plain": [
       "<Figure size 432x288 with 1 Axes>"
      ]
     },
     "metadata": {
      "needs_background": "light"
     },
     "output_type": "display_data"
    }
   ],
   "source": [
    "\n",
    "x, y = next(test_generator.generator())\n",
    "plot.ROC(model.predict(x), y)\n"
   ]
  }
 ],
 "metadata": {
  "kernelspec": {
   "display_name": "Python 3 (ipykernel)",
   "language": "python",
   "name": "python3"
  },
  "language_info": {
   "codemirror_mode": {
    "name": "ipython",
    "version": 3
   },
   "file_extension": ".py",
   "mimetype": "text/x-python",
   "name": "python",
   "nbconvert_exporter": "python",
   "pygments_lexer": "ipython3",
   "version": "3.8.10"
  }
 },
 "nbformat": 4,
 "nbformat_minor": 5
}
