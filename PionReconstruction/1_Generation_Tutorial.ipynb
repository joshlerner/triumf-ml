{
 "cells": [
  {
   "cell_type": "markdown",
   "id": "1e13e13e-10d2-4749-aca2-50dde8433aa5",
   "metadata": {},
   "source": [
    "# Understanding the Data"
   ]
  },
  {
   "cell_type": "markdown",
   "id": "09461c20-73e7-424f-a1cc-c7cea5e82c47",
   "metadata": {
    "jp-MarkdownHeadingCollapsed": true,
    "tags": []
   },
   "source": [
    "## Setup"
   ]
  },
  {
   "cell_type": "code",
   "execution_count": 1,
   "id": "e2a96e2a-65c0-43d6-95d3-07c1c0fde549",
   "metadata": {},
   "outputs": [],
   "source": [
    "%load_ext autoreload\n",
    "%autoreload 2"
   ]
  },
  {
   "cell_type": "markdown",
   "id": "b072b332-469b-423b-ab1b-3c2de41bd903",
   "metadata": {},
   "source": [
    "Import the necessary modules here"
   ]
  },
  {
   "cell_type": "code",
   "execution_count": 2,
   "id": "7179a6fe-41f5-4c1d-ae0b-48b5dc48ddd0",
   "metadata": {},
   "outputs": [],
   "source": [
    "import numpy as np\n",
    "import uproot as ur\n",
    "import awkward as ak\n",
    "\n",
    "from sklearn.preprocessing import StandardScaler\n",
    "import matplotlib.pyplot as plt\n",
    "\n",
    "#import os\n",
    "#os.environ['CUDA_VISIBLE_DEVICES'] = \"5\" # set to an available GPU\n",
    "#os.environ['TF_FORCE_GPU_ALLOW_GROWTH'] = \"true\"\n",
    "\n",
    "from PionReconstruction.util.Generators import *\n",
    "\n",
    "data_path = '/fast_scratch_1/atlas_images/v01-45/'\n",
    "cell_geo_path = data_path + 'cell_geo.root'\n",
    "out_path = '/fast_scratch_1/jlerner/data/' # set your own output path for storing processed files"
   ]
  },
  {
   "cell_type": "markdown",
   "id": "a6dfc610-54ef-4c80-9694-bee444dcd329",
   "metadata": {
    "jp-MarkdownHeadingCollapsed": true,
    "tags": []
   },
   "source": [
    "## Working with Uproot"
   ]
  },
  {
   "cell_type": "markdown",
   "id": "a47d59cb-d129-483d-94b6-cb73a9563d12",
   "metadata": {},
   "source": [
    "Load in an event tree"
   ]
  },
  {
   "cell_type": "code",
   "execution_count": 3,
   "id": "05392920-38e9-4e06-93df-c88b24437e0b",
   "metadata": {},
   "outputs": [],
   "source": [
    "pi0file = data_path + f'pi0/user.angerami.24559740.OutputStream._000011.root'\n",
    "pipmfile = data_path + f'pipm/user.angerami.24559744.OutputStream._000011.root'\n",
    "file = ur.open(pipmfile)\n",
    "tree = file['EventTree']"
   ]
  },
  {
   "cell_type": "markdown",
   "id": "2958777d-814b-437c-be29-7decf42102ae",
   "metadata": {},
   "source": [
    "Uncomment the cell below to see a list of observable quantities"
   ]
  },
  {
   "cell_type": "code",
   "execution_count": 4,
   "id": "ce1215e2-318d-4596-8c42-544d099b9026",
   "metadata": {},
   "outputs": [],
   "source": [
    "#tree.keys()"
   ]
  },
  {
   "cell_type": "markdown",
   "id": "c8724de9-7d24-4d33-b075-6487072ed7c9",
   "metadata": {},
   "source": [
    "Plot a few histograms of the cell energies and compare the normalization methods"
   ]
  },
  {
   "cell_type": "code",
   "execution_count": 5,
   "id": "771bfd78-2075-4c93-bd5d-44ccbbe7c092",
   "metadata": {},
   "outputs": [
    {
     "data": {
      "image/png": "[encoded data removed]",
      "text/plain": [
       "<Figure size 432x288 with 1 Axes>"
      ]
     },
     "metadata": {
      "needs_background": "light"
     },
     "output_type": "display_data"
    }
   ],
   "source": [
    "cell_E = ak.flatten(tree['cluster_cell_E'].array(), axis=None).to_numpy()\n",
    "plt.xlabel(r'$E^{cell}$', loc='right')\n",
    "plt.ylabel(r'Log Scale # of Cells')\n",
    "plt.title('Cell Energy')\n",
    "plt.hist(cell_E, 50, log=True)\n",
    "plt.show()"
   ]
  },
  {
   "cell_type": "code",
   "execution_count": 6,
   "id": "1b71e697-1739-4aba-ad81-ef7001558ea1",
   "metadata": {},
   "outputs": [
    {
     "data": {
      "image/png": "[encoded data removed]",
      "text/plain": [
       "<Figure size 432x288 with 1 Axes>"
      ]
     },
     "metadata": {
      "needs_background": "light"
     },
     "output_type": "display_data"
    }
   ],
   "source": [
    "scaler = StandardScaler()\n",
    "cell_E_std = scaler.fit_transform(cell_E.reshape(-1, 1))\n",
    "\n",
    "plt.hist(cell_E_std, 50, log=True)\n",
    "plt.xlabel(r'$E^{truth}$', loc='right')\n",
    "plt.ylabel(r'Log Scale # of Cells')\n",
    "plt.title('Standard Scaled Cell Energy')\n",
    "plt.show()"
   ]
  },
  {
   "cell_type": "code",
   "execution_count": 7,
   "id": "abf36a07-744d-44f3-bace-7d3262702494",
   "metadata": {},
   "outputs": [
    {
     "data": {
      "image/png": "[encoded data removed]",
      "text/plain": [
       "<Figure size 432x288 with 1 Axes>"
      ]
     },
     "metadata": {
      "needs_background": "light"
     },
     "output_type": "display_data"
    }
   ],
   "source": [
    "cell_E_log = np.nan_to_num(np.log(cell_E)/10, neginf=0.0)\n",
    "cell_E_log = cell_E_log[cell_E_log != 0.0]\n",
    "plt.hist(cell_E_log, 50)\n",
    "plt.xlabel(r'$E^{cell}$', loc='right')\n",
    "plt.ylabel(r'Log Scale # of Cells')\n",
    "plt.title('Log Scaled Cell Energy')\n",
    "plt.show()"
   ]
  },
  {
   "cell_type": "markdown",
   "id": "56aa100d-808d-4077-ba30-a30429df3b5f",
   "metadata": {},
   "source": [
    "A log function is the most effective normalization method"
   ]
  },
  {
   "cell_type": "markdown",
   "id": "5fc97caf-798f-4521-93e2-d91c0286b531",
   "metadata": {
    "jp-MarkdownHeadingCollapsed": true,
    "tags": []
   },
   "source": [
    "## Working with Generators"
   ]
  },
  {
   "cell_type": "markdown",
   "id": "58eec34d-3a70-4065-b5a4-49d516dea921",
   "metadata": {},
   "source": [
    "Make a new generator with a log normalizer and confirm the same distribution as before"
   ]
  },
  {
   "cell_type": "code",
   "execution_count": 8,
   "id": "bc59b1ec-76a3-42c1-a1c3-46b94dd559d3",
   "metadata": {},
   "outputs": [
    {
     "name": "stdout",
     "output_type": "stream",
     "text": [
      "\n",
      "Loading Geo Dictionary...\n",
      "\tStarting on cell_geo_sampling\n",
      "\tStarting on cell_geo_eta\n",
      "\tStarting on cell_geo_phi\n",
      "Finished loading Geo Dictionary\n",
      "\n",
      "Preprocessing and saving data to /fast_scratch_1/jlerner/data/test/\n"
     ]
    }
   ],
   "source": [
    "generator = garnetDataGenerator(([[pi0file, 1]], [[pipmfile, 0]]),\n",
    "                                cell_geo_path,\n",
    "                                batch_size=20000,\n",
    "                                normalizer=('log', None),\n",
    "                                name='example',\n",
    "                                vmax=128,\n",
    "                                labeled=True,\n",
    "                                preprocess=True,\n",
    "                                output_dir=out_path + 'test/',\n",
    "                                data_format='xne')"
   ]
  },
  {
   "cell_type": "code",
   "execution_count": 9,
   "id": "5649fb68-b982-423d-a1a1-9feaf57d6565",
   "metadata": {},
   "outputs": [],
   "source": [
    "x, y = next(generator.generator())"
   ]
  },
  {
   "cell_type": "code",
   "execution_count": 10,
   "id": "a7950514-8571-44b9-9cc9-e9c70d41c9cb",
   "metadata": {},
   "outputs": [
    {
     "data": {
      "image/png": "[encoded data removed]",
      "text/plain": [
       "<Figure size 432x288 with 1 Axes>"
      ]
     },
     "metadata": {
      "needs_background": "light"
     },
     "output_type": "display_data"
    }
   ],
   "source": [
    "cell_E_log_p = ak.flatten(x[0][:, :, -1], axis=None)\n",
    "plt.hist(cell_E_log_p, 50)\n",
    "plt.xlabel(r'$E^{cell}$', loc='right')\n",
    "plt.ylabel(r'Log Scale # of Cells')\n",
    "plt.title('Log Scaled Cell Energy')\n",
    "plt.show()"
   ]
  },
  {
   "cell_type": "markdown",
   "id": "80bdea03-c8e7-41d4-a2d8-f30f9d8a8cd9",
   "metadata": {},
   "source": [
    "Where did all these 'log(E) = 0' cells come from? \\\n",
    "This is a result of padding every cluster to Vmax. \\\n",
    "See the 'Clipping and Padding' section of the \\\n",
    "`preprocessor` method in `Generators.py`."
   ]
  },
  {
   "cell_type": "code",
   "execution_count": 11,
   "id": "a9cd3eee-1293-4aca-bbf8-5db6db4271d2",
   "metadata": {},
   "outputs": [
    {
     "data": {
      "image/png": "[encoded data removed]",
      "text/plain": [
       "<Figure size 432x288 with 1 Axes>"
      ]
     },
     "metadata": {
      "needs_background": "light"
     },
     "output_type": "display_data"
    }
   ],
   "source": [
    "cell_E_log_p = cell_E_log_p[cell_E_log_p != 0.0]\n",
    "plt.hist(cell_E_log_p, 50)\n",
    "plt.xlabel(r'$E^{cell}$', loc='right')\n",
    "plt.ylabel(r'Log Scale # of Cells')\n",
    "plt.title('Log Scaled Cell Energy')\n",
    "plt.show()"
   ]
  },
  {
   "cell_type": "markdown",
   "id": "28f0952b-e701-4efe-ac7a-b71572e1de90",
   "metadata": {},
   "source": [
    "Cutting out the zero cells restores the distribution we expect to see. \\\n",
    "How can this be replicated in the training process? \\\n",
    "Ideally, the vertex mask should take care of this. \\\n",
    "Check out `Layers.py` and notice where vertex mask is utilized."
   ]
  }
 ],
 "metadata": {
  "kernelspec": {
   "display_name": "Python 3 (ipykernel)",
   "language": "python",
   "name": "python3"
  },
  "language_info": {
   "codemirror_mode": {
    "name": "ipython",
    "version": 3
   },
   "file_extension": ".py",
   "mimetype": "text/x-python",
   "name": "python",
   "nbconvert_exporter": "python",
   "pygments_lexer": "ipython3",
   "version": "3.8.10"
  }
 },
 "nbformat": 4,
 "nbformat_minor": 5
}
