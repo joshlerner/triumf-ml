{
 "cells": [
  {
   "cell_type": "code",
   "execution_count": null,
   "id": "280c83d0-8579-4df4-bb2e-ec895d8afcae",
   "metadata": {},
   "outputs": [],
   "source": [
    "\n",
    "%load_ext autoreload\n",
    "%autoreload 2\n"
   ]
  },
  {
   "cell_type": "code",
   "execution_count": 2,
   "id": "149be721-3a32-40e9-a9d2-204abb0455d2",
   "metadata": {},
   "outputs": [],
   "source": [
    "import os\n",
    "os.environ['CUDA_VISIBLE_DEVICES'] = \"1\"\n",
    "os.environ['TF_FORCE_GPU_ALLOW_GROWTH'] = 'true'\n",
    "\n",
    "#RUN BEFORE#"
   ]
  },
  {
   "cell_type": "code",
   "execution_count": 3,
   "id": "69c871e0-75fa-4ac2-ac31-252568e255b2",
   "metadata": {},
   "outputs": [
    {
     "name": "stderr",
     "output_type": "stream",
     "text": [
      "/home/joshualerner/.local/lib/python3.8/site-packages/hls4ml/converters/__init__.py:24: UserWarning: WARNING: Pytorch converter is not enabled!\n",
      "  warnings.warn(\"WARNING: Pytorch converter is not enabled!\", stacklevel=1)\n"
     ]
    },
    {
     "name": "stdout",
     "output_type": "stream",
     "text": [
      "WARNING: Failed to import handlers from core.py: No module named 'torch'.\n",
      "WARNING: Failed to import handlers from convolution.py: No module named 'torch'.\n"
     ]
    }
   ],
   "source": [
    "#RUN AFTER#\n",
    "\n",
    "import hls4ml\n",
    "import pickle\n",
    "import plotting as pl\n",
    "\n",
    "from util.Models import *\n",
    "from util.Generators import *\n",
    "from util.Plotting import *\n"
   ]
  },
  {
   "cell_type": "code",
   "execution_count": 4,
   "id": "c4f2afff-5ecf-42a9-b1fb-3cc2cf522abb",
   "metadata": {},
   "outputs": [],
   "source": [
    "\n",
    "data_path = '/fast_scratch_1/atlas_images/v01-45/'\n",
    "\n",
    "cell_geo_path = data_path + 'cell_geo.root'\n",
    "\n",
    "out_path = '/fast_scratch_1/jlerner/data/'\n",
    "\n",
    "norm = 'log' # 'log', 'std', or 'max'\n",
    "scaler = None"
   ]
  },
  {
   "cell_type": "code",
   "execution_count": 5,
   "id": "c8fd7063-b4b6-4ef7-a63e-6821b408a1fd",
   "metadata": {},
   "outputs": [
    {
     "name": "stderr",
     "output_type": "stream",
     "text": [
      "2023-06-13 15:48:46.049888: W tensorflow/core/common_runtime/gpu/gpu_bfc_allocator.cc:39] Overriding allow_growth setting because the TF_FORCE_GPU_ALLOW_GROWTH environment variable is set. Original config value was 0.\n",
      "2023-06-13 15:48:46.049964: I tensorflow/core/common_runtime/gpu/gpu_device.cc:1510] Created device /job:localhost/replica:0/task:0/device:GPU:0 with 6609 MB memory:  -> device: 0, name: NVIDIA GeForce RTX 2080 Ti, pci bus id: 0000:1b:00.0, compute capability: 7.5\n"
     ]
    }
   ],
   "source": [
    "\n",
    "model = tf.keras.models.load_model(out_path + 'models/GarNet_' + norm, \n",
    "                                   custom_objects={\"GarNetModel\": GarNetModel}, compile=False)\n",
    "\n",
    "with open(out_path + 'models/GarNet_' + norm + '/history.pickle', \"rb\") as file:\n",
    "    history = pickle.load(file)\n",
    "\n",
    "if norm != 'log':\n",
    "    with open(out_path + 'models/GarNet_' + norm + '/scaler.pickle', 'rb') as file:\n",
    "        scaler = pickle.load(file)\n"
   ]
  },
  {
   "cell_type": "code",
   "execution_count": 6,
   "id": "fb481e49-b5a9-4c94-ade3-c1fbd8c6c8ed",
   "metadata": {},
   "outputs": [],
   "source": [
    "\n",
    "test_file_list = ([[data_path + f'pi0/user.angerami.24559740.OutputStream._000{i:03d}.root', 1] for i in range(232, 264)],\n",
    "                  [[data_path + f'pipm/user.angerami.24559744.OutputStream._000{i:03d}.root', 0] for i in range(232, 264)])\n",
    "\n",
    "test_generator = garnetDataGenerator(test_file_list,\n",
    "                                     cell_geo_path,\n",
    "                                     batch_size=20000,\n",
    "                                     normalizer=(norm, scaler),\n",
    "                                     name='garnet_' + norm,\n",
    "                                     labeled=True,\n",
    "                                     preprocess=False,\n",
    "                                     output_dir=out_path + 'test/')\n",
    "\n",
    "x, y = next(test_generator.generator())"
   ]
  },
  {
   "cell_type": "code",
   "execution_count": 7,
   "id": "dfa83ced-2ebd-4825-a3cf-4852892f4620",
   "metadata": {},
   "outputs": [
    {
     "name": "stdout",
     "output_type": "stream",
     "text": [
      "Interpreting Model\n",
      "Topology:\n",
      "Layer name: input_1, layer type: InputLayer, input shapes: [[None, 128, 4]], output shape: [None, 128, 4]\n",
      "Layer name: input_2, layer type: InputLayer, input shapes: [[None, 1]], output shape: [None, 1]\n",
      "Layer name: garnet, layer type: GarNetStack, input shapes: [[None, 128, 4], [None, 1]], output shape: [None, 16]\n",
      "Layer name: dense, layer type: Dense, input shapes: [[None, 16]], output shape: [None, 16]\n",
      "Layer name: dense_1, layer type: Dense, input shapes: [[None, 16]], output shape: [None, 8]\n",
      "Layer name: classification, layer type: Dense, input shapes: [[None, 8]], output shape: [None, 2]\n",
      "Layer name: regression, layer type: Dense, input shapes: [[None, 8]], output shape: [None, 1]\n",
      "-----------------------------------\n",
      "Configuration\n",
      "{'Model': {'Precision': 'fixed<16,6>', 'ReuseFactor': 1, 'Strategy': 'Latency', 'BramFactor': 1000000000, 'TraceOutput': False}}\n",
      "-----------------------------------\n"
     ]
    }
   ],
   "source": [
    "\n",
    "config = hls4ml.utils.config_from_keras_model(model, granularity='model')\n",
    "\n",
    "print(\"-----------------------------------\")\n",
    "print(\"Configuration\")\n",
    "print(config)\n",
    "print(\"-----------------------------------\")"
   ]
  },
  {
   "cell_type": "code",
   "execution_count": 8,
   "id": "db342538-abb8-4464-9812-6797861e29b3",
   "metadata": {},
   "outputs": [
    {
     "name": "stdout",
     "output_type": "stream",
     "text": [
      "Interpreting Model\n",
      "Topology:\n",
      "Layer name: input_1, layer type: InputLayer, input shapes: [[None, 128, 4]], output shape: [None, 128, 4]\n",
      "Layer name: input_2, layer type: InputLayer, input shapes: [[None, 1]], output shape: [None, 1]\n",
      "Layer name: garnet, layer type: GarNetStack, input shapes: [[None, 128, 4], [None, 1]], output shape: [None, 16]\n",
      "Layer name: dense, layer type: Dense, input shapes: [[None, 16]], output shape: [None, 16]\n",
      "Layer name: dense_1, layer type: Dense, input shapes: [[None, 16]], output shape: [None, 8]\n",
      "Layer name: classification, layer type: Dense, input shapes: [[None, 8]], output shape: [None, 2]\n",
      "Layer name: regression, layer type: Dense, input shapes: [[None, 8]], output shape: [None, 1]\n",
      "Creating HLS model\n"
     ]
    }
   ],
   "source": [
    "\n",
    "hls_model = hls4ml.converters.convert_from_keras_model(model, hls_config=config, \n",
    "                                                       output_dir='/home/joshualerner/start_tf/PionReconstruction/data/', \n",
    "                                                       part='xcku115-flvb2104-2-i')\n",
    "\n",
    "#hls4ml.utils.plot_model(hls_model, show_shapes=True, show_precision=True, to_file=None)"
   ]
  },
  {
   "cell_type": "code",
   "execution_count": 9,
   "id": "6a38dd40-f8dc-4f02-8866-76e8d407f12e",
   "metadata": {},
   "outputs": [
    {
     "name": "stdout",
     "output_type": "stream",
     "text": [
      "Writing HLS project\n",
      "WARNING:tensorflow:Compiled the loaded model, but the compiled metrics have yet to be built. `model.compile_metrics` will be empty until you train or evaluate the model.\n",
      "Done\n"
     ]
    },
    {
     "name": "stderr",
     "output_type": "stream",
     "text": [
      "2023-06-13 15:49:04.911325: I tensorflow/compiler/mlir/mlir_graph_optimization_pass.cc:185] None of the MLIR Optimization Passes are enabled (registered 2)\n"
     ]
    }
   ],
   "source": [
    "hls_model.compile()\n",
    "\n",
    "keras_pred = model.predict(x)\n",
    "hls_pred = hls_model.predict(x)"
   ]
  },
  {
   "cell_type": "code",
   "execution_count": 10,
   "id": "c686c087-bb1b-4be4-a8a7-eff733ff4534",
   "metadata": {},
   "outputs": [
    {
     "data": {
      "image/png": "[encoded data removed]",
      "text/plain": [
       "<Figure size 432x288 with 1 Axes>"
      ]
     },
     "metadata": {
      "needs_background": "light"
     },
     "output_type": "display_data"
    }
   ],
   "source": [
    "ROC = Plotter(roc, \n",
    "              preds=[keras_pred[0][:,0], hls_pred[0][:,0]], \n",
    "              targets=[y['classification'][:,0], y['classification'][:,0]],\n",
    "              labels=['keras', 'hls'])\n",
    "ROC.show()"
   ]
  },
  {
   "cell_type": "code",
   "execution_count": 11,
   "id": "de19be5e-caef-408d-9aa8-2f2ad1ccc1ce",
   "metadata": {},
   "outputs": [
    {
     "data": {
      "image/png": "[encoded data removed]",
      "text/plain": [
       "<Figure size 432x288 with 1 Axes>"
      ]
     },
     "metadata": {
      "needs_background": "light"
     },
     "output_type": "display_data"
    }
   ],
   "source": [
    "if norm == 'log':\n",
    "    keras_scaled_pred = np.exp(keras_pred[-1]).reshape(-1,)\n",
    "    hls_scaled_pred = np.exp(hls_pred[-1]).reshape(-1,)\n",
    "    scaled_target = np.exp(y['regression']).reshape(-1,)\n",
    "else:\n",
    "    keras_scaled_pred = scaler.inverse_transform(keras_pred[-1]).reshape(-1,)\n",
    "    hls_scaled_pred = scaler.inverse_transform(hls_pred[-1]).reshape(-1,)\n",
    "    scaled_target = scaler.inverse_transform(np.reshape(y['regression'], (-1, 1))).reshape(-1,)\n",
    "\n",
    "reg = Plotter(regResponseOverlay, \n",
    "              preds=[keras_scaled_pred, hls_scaled_pred], \n",
    "              targets=[scaled_target, scaled_target],\n",
    "              labels=['keras', 'hls'])\n",
    "reg.show()"
   ]
  }
 ],
 "metadata": {
  "kernelspec": {
   "display_name": "Python 3 (ipykernel)",
   "language": "python",
   "name": "python3"
  },
  "language_info": {
   "codemirror_mode": {
    "name": "ipython",
    "version": 3
   },
   "file_extension": ".py",
   "mimetype": "text/x-python",
   "name": "python",
   "nbconvert_exporter": "python",
   "pygments_lexer": "ipython3",
   "version": "3.8.10"
  }
 },
 "nbformat": 4,
 "nbformat_minor": 5
}
