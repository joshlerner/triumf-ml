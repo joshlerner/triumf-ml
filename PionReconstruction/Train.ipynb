{
 "cells": [
  {
   "cell_type": "code",
   "execution_count": 1,
   "id": "d6e2698c-8b28-4191-86aa-db41cd73329a",
   "metadata": {},
   "outputs": [],
   "source": [
    "\n",
    "%load_ext autoreload\n",
    "%autoreload 2\n"
   ]
  },
  {
   "cell_type": "code",
   "execution_count": 2,
   "id": "f617b953-32cd-4ac3-9b41-9784604486c0",
   "metadata": {},
   "outputs": [],
   "source": [
    "\n",
    "import numpy as np\n",
    "\n",
    "import os\n",
    "os.environ['CUDA_VISIBLE_DEVICES'] = \"6\"\n",
    "os.environ['TF_FORCE_GPU_ALLOW_GROWTH'] = 'true'\n",
    "\n",
    "\n",
    "#RUN BEFORE#"
   ]
  },
  {
   "cell_type": "code",
   "execution_count": 3,
   "id": "83399097-1891-48d2-a523-897113f197c0",
   "metadata": {},
   "outputs": [],
   "source": [
    "#RUN AFTER#\n",
    "\n",
    "import tensorflow.keras as keras\n",
    "K = keras.backend\n",
    "from util.Models import *"
   ]
  },
  {
   "cell_type": "code",
   "execution_count": 4,
   "id": "fd5aae87-2505-4b09-9a0f-fc19b0e39c60",
   "metadata": {},
   "outputs": [
    {
     "name": "stderr",
     "output_type": "stream",
     "text": [
      "2023-05-15 10:45:50.785495: W tensorflow/core/common_runtime/gpu/gpu_bfc_allocator.cc:39] Overriding allow_growth setting because the TF_FORCE_GPU_ALLOW_GROWTH environment variable is set. Original config value was 0.\n",
      "2023-05-15 10:45:50.785598: I tensorflow/core/common_runtime/gpu/gpu_device.cc:1510] Created device /job:localhost/replica:0/task:0/device:GPU:0 with 9671 MB memory:  -> device: 0, name: NVIDIA GeForce RTX 2080 Ti, pci bus id: 0000:b1:00.0, compute capability: 7.5\n"
     ]
    }
   ],
   "source": [
    "\n",
    "K.clear_session()\n",
    "model = GarNetModel()\n",
    "x = np.array(np.random.rand(1000, 128, 4)) # 1000 events, 128 vertices, 4 features"
   ]
  },
  {
   "cell_type": "code",
   "execution_count": 5,
   "id": "4afd39a3-c2bd-4147-80e2-b43165400d7a",
   "metadata": {},
   "outputs": [
    {
     "name": "stdout",
     "output_type": "stream",
     "text": [
      "Model: \"gar_net_model\"\n",
      "__________________________________________________________________________________________________\n",
      "Layer (type)                    Output Shape         Param #     Connected to                     \n",
      "==================================================================================================\n",
      "input_1 (InputLayer)            [(None, 128, 4)]     0                                            \n",
      "__________________________________________________________________________________________________\n",
      "input_gex (GlobalExchange)      (None, 128, 8)       0           input_1[0][0]                    \n",
      "__________________________________________________________________________________________________\n",
      "input_batchnorm (BatchNormaliza (None, 128, 8)       32          input_gex[0][0]                  \n",
      "__________________________________________________________________________________________________\n",
      "input_dense (Dense)             (None, 128, 32)      288         input_batchnorm[0][0]            \n",
      "__________________________________________________________________________________________________\n",
      "garnet_0 (GarNet)               (None, 128, 32)      8120        input_dense[0][0]                \n",
      "__________________________________________________________________________________________________\n",
      "batchnorm_0 (BatchNormalization (None, 128, 32)      128         garnet_0[0][0]                   \n",
      "__________________________________________________________________________________________________\n",
      "garnet_1 (GarNet)               (None, 128, 32)      8120        batchnorm_0[0][0]                \n",
      "__________________________________________________________________________________________________\n",
      "batchnorm_1 (BatchNormalization (None, 128, 32)      128         garnet_1[0][0]                   \n",
      "__________________________________________________________________________________________________\n",
      "garnet_2 (GarNet)               (None, 128, 32)      8120        batchnorm_1[0][0]                \n",
      "__________________________________________________________________________________________________\n",
      "batchnorm_2 (BatchNormalization (None, 128, 32)      128         garnet_2[0][0]                   \n",
      "__________________________________________________________________________________________________\n",
      "garnet_3 (GarNet)               (None, 128, 32)      8120        batchnorm_2[0][0]                \n",
      "__________________________________________________________________________________________________\n",
      "batchnorm_3 (BatchNormalization (None, 128, 32)      128         garnet_3[0][0]                   \n",
      "__________________________________________________________________________________________________\n",
      "garnet_4 (GarNet)               (None, 128, 32)      8120        batchnorm_3[0][0]                \n",
      "__________________________________________________________________________________________________\n",
      "batchnorm_4 (BatchNormalization (None, 128, 32)      128         garnet_4[0][0]                   \n",
      "__________________________________________________________________________________________________\n",
      "garnet_5 (GarNet)               (None, 128, 32)      8120        batchnorm_4[0][0]                \n",
      "__________________________________________________________________________________________________\n",
      "batchnorm_5 (BatchNormalization (None, 128, 32)      128         garnet_5[0][0]                   \n",
      "__________________________________________________________________________________________________\n",
      "garnet_6 (GarNet)               (None, 128, 32)      8120        batchnorm_5[0][0]                \n",
      "__________________________________________________________________________________________________\n",
      "batchnorm_6 (BatchNormalization (None, 128, 32)      128         garnet_6[0][0]                   \n",
      "__________________________________________________________________________________________________\n",
      "garnet_7 (GarNet)               (None, 128, 32)      8120        batchnorm_6[0][0]                \n",
      "__________________________________________________________________________________________________\n",
      "batchnorm_7 (BatchNormalization (None, 128, 32)      128         garnet_7[0][0]                   \n",
      "__________________________________________________________________________________________________\n",
      "garnet_8 (GarNet)               (None, 128, 32)      8120        batchnorm_7[0][0]                \n",
      "__________________________________________________________________________________________________\n",
      "batchnorm_8 (BatchNormalization (None, 128, 32)      128         garnet_8[0][0]                   \n",
      "__________________________________________________________________________________________________\n",
      "garnet_9 (GarNet)               (None, 128, 32)      8120        batchnorm_8[0][0]                \n",
      "__________________________________________________________________________________________________\n",
      "batchnorm_9 (BatchNormalization (None, 128, 32)      128         garnet_9[0][0]                   \n",
      "__________________________________________________________________________________________________\n",
      "garnet_10 (GarNet)              (None, 128, 32)      8120        batchnorm_9[0][0]                \n",
      "__________________________________________________________________________________________________\n",
      "batchnorm_10 (BatchNormalizatio (None, 128, 32)      128         garnet_10[0][0]                  \n",
      "__________________________________________________________________________________________________\n",
      "tf.concat (TFOpLambda)          (None, 128, 352)     0           batchnorm_0[0][0]                \n",
      "                                                                 batchnorm_1[0][0]                \n",
      "                                                                 batchnorm_2[0][0]                \n",
      "                                                                 batchnorm_3[0][0]                \n",
      "                                                                 batchnorm_4[0][0]                \n",
      "                                                                 batchnorm_5[0][0]                \n",
      "                                                                 batchnorm_6[0][0]                \n",
      "                                                                 batchnorm_7[0][0]                \n",
      "                                                                 batchnorm_8[0][0]                \n",
      "                                                                 batchnorm_9[0][0]                \n",
      "                                                                 batchnorm_10[0][0]               \n",
      "__________________________________________________________________________________________________\n",
      "output_0 (Dense)                (None, 128, 48)      16944       tf.concat[0][0]                  \n",
      "__________________________________________________________________________________________________\n",
      "output_1 (Dense)                (None, 128, 3)       147         output_0[0][0]                   \n",
      "==================================================================================================\n",
      "Total params: 108,139\n",
      "Trainable params: 107,419\n",
      "Non-trainable params: 720\n",
      "__________________________________________________________________________________________________\n"
     ]
    }
   ],
   "source": [
    "model.build(x.shape)\n",
    "model.summary()"
   ]
  }
 ],
 "metadata": {
  "kernelspec": {
   "display_name": "Python 3 (ipykernel)",
   "language": "python",
   "name": "python3"
  },
  "language_info": {
   "codemirror_mode": {
    "name": "ipython",
    "version": 3
   },
   "file_extension": ".py",
   "mimetype": "text/x-python",
   "name": "python",
   "nbconvert_exporter": "python",
   "pygments_lexer": "ipython3",
   "version": "3.8.10"
  }
 },
 "nbformat": 4,
 "nbformat_minor": 5
}
