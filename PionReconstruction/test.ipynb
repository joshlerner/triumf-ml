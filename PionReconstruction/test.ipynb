{
 "cells": [
  {
   "cell_type": "code",
   "execution_count": 31,
   "id": "280c83d0-8579-4df4-bb2e-ec895d8afcae",
   "metadata": {},
   "outputs": [
    {
     "name": "stdout",
     "output_type": "stream",
     "text": [
      "The autoreload extension is already loaded. To reload it, use:\n",
      "  %reload_ext autoreload\n"
     ]
    }
   ],
   "source": [
    "\n",
    "%load_ext autoreload\n",
    "%autoreload 2\n"
   ]
  },
  {
   "cell_type": "code",
   "execution_count": 32,
   "id": "38fed61e-1562-495b-b179-ca5985c4e358",
   "metadata": {},
   "outputs": [],
   "source": [
    "import numpy as np\n",
    "import pickle\n",
    "import matplotlib.pyplot as plt"
   ]
  },
  {
   "cell_type": "code",
   "execution_count": 33,
   "id": "520005e0-bdd5-43a8-8df0-45e06a5e4abf",
   "metadata": {},
   "outputs": [],
   "source": [
    "import os\n",
    "os.environ['CUDA_VISIBLE_DEVICES'] = \"2\"\n",
    "os.environ['TF_FORCE_GPU_ALLOW_GROWTH'] = 'true'\n",
    "\n",
    "#RUN BEFORE#"
   ]
  },
  {
   "cell_type": "code",
   "execution_count": 34,
   "id": "5afef4fe-b67b-4689-aa6f-2ec1e4058262",
   "metadata": {},
   "outputs": [],
   "source": [
    "#RUN AFTER#\n",
    "\n",
    "import tensorflow.keras as keras\n",
    "K = keras.backend\n",
    "from util.Models import *\n",
    "from util.Generators import *\n"
   ]
  },
  {
   "cell_type": "code",
   "execution_count": 35,
   "id": "35f2532a-2f1a-4db1-8e71-3305ff41fd49",
   "metadata": {},
   "outputs": [],
   "source": [
    "\n",
    "data_path = '/fast_scratch_1/atlas_images/v01-45/'\n",
    "\n",
    "cell_geo_path = data_path + 'cell_geo.root'\n",
    "\n",
    "out_path = '/home/joshualerner/start_tf/PionReconstruction/data/'\n"
   ]
  },
  {
   "cell_type": "code",
   "execution_count": 36,
   "id": "129a3890-3a20-4792-ab5c-708f783d0780",
   "metadata": {},
   "outputs": [
    {
     "name": "stdout",
     "output_type": "stream",
     "text": [
      "\n",
      "Loading Geo Dictionary...\n",
      "\tStarting on cell_geo_sampling\n",
      "\tStarting on cell_geo_eta\n",
      "\tStarting on cell_geo_phi\n",
      "Finished loading Geo Dictionary\n",
      "\n",
      "Preprocessing and saving data to /home/joshualerner/start_tf/PionReconstruction/data/\n",
      "Processing file 0\n",
      "Processing file 1\n",
      "Processing file 2\n",
      "Finished processing file 0\n",
      "Finished processing file 2\n",
      "Finished processing file 1\n"
     ]
    }
   ],
   "source": [
    "batch_size = 20\n",
    "\n",
    "file_list = ([[data_path + f'pi0/user.angerami.24559740.OutputStream._000{i:03d}.root', 1] for i in range(11, 14)],\n",
    "             [[data_path + f'pipm/user.angerami.24559744.OutputStream._000{i:03d}.root', 0] for i in range(11, 14)])\n",
    "\n",
    "train_generator = garnetDataGenerator(file_list, \n",
    "                                      cell_geo_path, \n",
    "                                      batch_size, \n",
    "                                      labeled=True, \n",
    "                                      preprocess=True, \n",
    "                                      output_dir=out_path,\n",
    "                                      noisy=True)\n",
    " "
   ]
  },
  {
   "cell_type": "code",
   "execution_count": 37,
   "id": "f3c4a211-edea-4b5e-992a-ceb5c817d1bc",
   "metadata": {},
   "outputs": [],
   "source": [
    "t = train_generator.generator()"
   ]
  },
  {
   "cell_type": "code",
   "execution_count": 38,
   "id": "4ade71f7-fae8-416e-a29e-6245757a472b",
   "metadata": {},
   "outputs": [
    {
     "data": {
      "text/plain": [
       "array([[ 1.        ,  0.        ,  2.2162135 ],\n",
       "       [ 1.        ,  0.        ,  0.8811901 ],\n",
       "       [ 1.        ,  0.        ,  0.9720561 ],\n",
       "       [ 1.        ,  0.        ,  1.7911831 ],\n",
       "       [ 0.        ,  1.        , -0.1945707 ],\n",
       "       [ 1.        ,  0.        ,  0.30926797],\n",
       "       [ 1.        ,  0.        , -0.04711472],\n",
       "       [ 1.        ,  0.        ,  2.6284223 ],\n",
       "       [ 1.        ,  0.        ,  2.7364964 ],\n",
       "       [ 0.        ,  1.        ,  0.74739105],\n",
       "       [ 1.        ,  0.        ,  0.35685334],\n",
       "       [ 1.        ,  0.        , -0.87330055],\n",
       "       [ 1.        ,  0.        ,  0.80905616],\n",
       "       [ 0.        ,  1.        ,  1.5419135 ],\n",
       "       [ 1.        ,  0.        ,  0.7714135 ],\n",
       "       [ 0.        ,  1.        , -0.37795657],\n",
       "       [ 0.        ,  1.        ,  1.9008216 ],\n",
       "       [ 1.        ,  0.        ,  0.90658295],\n",
       "       [ 1.        ,  0.        , -0.03494263],\n",
       "       [ 0.        ,  1.        ,  1.5961676 ]], dtype=float32)"
      ]
     },
     "execution_count": 38,
     "metadata": {},
     "output_type": "execute_result"
    }
   ],
   "source": [
    "next(t)[1]"
   ]
  },
  {
   "cell_type": "code",
   "execution_count": 25,
   "id": "ae4d1bac-b800-4fec-b048-9953ba462174",
   "metadata": {},
   "outputs": [],
   "source": [
    "a = [['a', 1], \n",
    "     ['b', 2], \n",
    "     ['c', 3]]\n",
    "b = [['d', 4], \n",
    "     ['e', 5], \n",
    "     ['f', 6]]"
   ]
  },
  {
   "cell_type": "code",
   "execution_count": 26,
   "id": "3e83dea3-f114-4ef1-b009-c7b31e84c209",
   "metadata": {},
   "outputs": [],
   "source": [
    "c = (a, b)"
   ]
  },
  {
   "cell_type": "code",
   "execution_count": 27,
   "id": "81b47130-b196-498b-b871-db387470c9b3",
   "metadata": {},
   "outputs": [
    {
     "data": {
      "text/plain": [
       "2"
      ]
     },
     "execution_count": 27,
     "metadata": {},
     "output_type": "execute_result"
    }
   ],
   "source": [
    "len(c)"
   ]
  },
  {
   "cell_type": "code",
   "execution_count": 28,
   "id": "ef0f2f6d-f820-46f5-860f-fe1bd5fc8d1e",
   "metadata": {},
   "outputs": [
    {
     "data": {
      "text/plain": [
       "list"
      ]
     },
     "execution_count": 28,
     "metadata": {},
     "output_type": "execute_result"
    }
   ],
   "source": [
    "type(a)"
   ]
  },
  {
   "cell_type": "code",
   "execution_count": 29,
   "id": "69d7d1f8-df9f-4b4d-bf83-e6d5dd0c0bb3",
   "metadata": {},
   "outputs": [
    {
     "data": {
      "text/plain": [
       "tuple"
      ]
     },
     "execution_count": 29,
     "metadata": {},
     "output_type": "execute_result"
    }
   ],
   "source": [
    "type(c)"
   ]
  },
  {
   "cell_type": "code",
   "execution_count": 30,
   "id": "18b36821-230d-4a61-beff-11e58cb15d2a",
   "metadata": {},
   "outputs": [
    {
     "data": {
      "text/plain": [
       "array([['a', '1'],\n",
       "       ['b', '2'],\n",
       "       ['c', '3'],\n",
       "       ['d', '4'],\n",
       "       ['e', '5'],\n",
       "       ['f', '6']], dtype='<U21')"
      ]
     },
     "execution_count": 30,
     "metadata": {},
     "output_type": "execute_result"
    }
   ],
   "source": [
    "np.append(a, b, axis=0)"
   ]
  },
  {
   "cell_type": "code",
   "execution_count": null,
   "id": "f5ce3108-d39e-4f04-9248-b87d866e00d3",
   "metadata": {},
   "outputs": [],
   "source": []
  }
 ],
 "metadata": {
  "kernelspec": {
   "display_name": "Python 3 (ipykernel)",
   "language": "python",
   "name": "python3"
  },
  "language_info": {
   "codemirror_mode": {
    "name": "ipython",
    "version": 3
   },
   "file_extension": ".py",
   "mimetype": "text/x-python",
   "name": "python",
   "nbconvert_exporter": "python",
   "pygments_lexer": "ipython3",
   "version": "3.8.10"
  }
 },
 "nbformat": 4,
 "nbformat_minor": 5
}
