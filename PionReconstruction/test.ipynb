{
 "cells": [
  {
   "cell_type": "code",
   "execution_count": 1,
   "id": "9b635fe2-7133-4512-8ad7-fdc6f23bc680",
   "metadata": {},
   "outputs": [],
   "source": [
    "import uproot as ur\n",
    "import numpy as np\n",
    "import awkward as ak\n",
    "\n",
    "data_path = '/fast_scratch_1/atlas_images/v01-45/'\n",
    "\n",
    "cell_geo_path = data_path + 'cell_geo.root'\n",
    "\n",
    "out_path = '/home/joshualerner/start_tf/PionReconstruction/data/'\n",
    "\n",
    "import os\n",
    "os.environ['CUDA_VISIBLE_DEVICES'] = \"1\"\n",
    "os.environ['TF_FORCE_GPU_ALLOW_GROWTH'] = 'true'\n",
    "\n",
    "\n",
    "#RUN BEFORE#"
   ]
  },
  {
   "cell_type": "code",
   "execution_count": 2,
   "id": "c8dfec00-0403-428a-8e06-838f3671b613",
   "metadata": {},
   "outputs": [],
   "source": [
    "#RUN AFTER#\n",
    "\n",
    "import tensorflow.keras as keras\n",
    "K = keras.backend\n",
    "from util.Generators import *"
   ]
  },
  {
   "cell_type": "code",
   "execution_count": 3,
   "id": "48a67f06-1523-4481-afd0-febf37e25a89",
   "metadata": {},
   "outputs": [],
   "source": [
    "\n",
    "pi0_list = [[data_path + f'pi0/user.angerami.24559740.OutputStream._0000{i}.root', 1] for i in range(11, 15)]\n",
    "pipm_list = [[data_path + f'pipm/user.angerami.24559744.OutputStream._0000{i}.root', 0] for i in range(11, 15)]\n",
    "file_list = np.concatenate((pi0_list, pipm_list))\n",
    "\n",
    "batch_size = 20\n"
   ]
  },
  {
   "cell_type": "code",
   "execution_count": 4,
   "id": "6dcbf7be-b1ec-4d94-a82c-354fad036a7e",
   "metadata": {},
   "outputs": [
    {
     "name": "stdout",
     "output_type": "stream",
     "text": [
      "\n",
      "Loading Geo Dictionary...\n",
      "\tStarting on cell_geo_sampling\n",
      "\tStarting on cell_geo_eta\n",
      "\tStarting on cell_geo_phi\n",
      "Finished loading Geo Dictionary\n",
      "\n",
      "Preprocessing and saving data to /home/joshualerner/start_tf/PionReconstruction/data/\n",
      "Processing file 0Processing file 1\n",
      "\n",
      "Processing file 2\n",
      "Processing file 3\n",
      "Processing file 4\n",
      "Processing file 5\n",
      "Processing file 6\n",
      "Processing file 7\n",
      "Finished processing file 7\n",
      "Finished processing file 2\n",
      "Finished processing file 5\n",
      "Finished processing file 1\n",
      "Finished processing file 3\n",
      "Finished processing file 0\n",
      "Finished processing file 6\n",
      "Finished processing file 4\n"
     ]
    }
   ],
   "source": [
    "\n",
    "gen = garnetDataGenerator(file_list, cell_geo_path, batch_size, labeled=True, preprocess=True, output_dir=out_path)\n"
   ]
  },
  {
   "cell_type": "code",
   "execution_count": 8,
   "id": "51653c51-bff0-48dd-88cd-4e7b9a0bab46",
   "metadata": {},
   "outputs": [
    {
     "ename": "ValueError",
     "evalue": "too many values to unpack (expected 2)",
     "output_type": "error",
     "traceback": [
      "\u001b[0;31m---------------------------------------------------------------------------\u001b[0m",
      "\u001b[0;31mValueError\u001b[0m                                Traceback (most recent call last)",
      "Input \u001b[0;32mIn [8]\u001b[0m, in \u001b[0;36m<cell line: 1>\u001b[0;34m()\u001b[0m\n\u001b[0;32m----> 1\u001b[0m (data, targets) \u001b[38;5;241m=\u001b[39m gen\u001b[38;5;241m.\u001b[39mgenerator()\n",
      "\u001b[0;31mValueError\u001b[0m: too many values to unpack (expected 2)"
     ]
    }
   ],
   "source": [
    "(data, targets) = gen.generator()"
   ]
  },
  {
   "cell_type": "code",
   "execution_count": null,
   "id": "c860047a-1285-4438-a2e5-85d13c692502",
   "metadata": {},
   "outputs": [],
   "source": []
  }
 ],
 "metadata": {
  "kernelspec": {
   "display_name": "Python 3 (ipykernel)",
   "language": "python",
   "name": "python3"
  },
  "language_info": {
   "codemirror_mode": {
    "name": "ipython",
    "version": 3
   },
   "file_extension": ".py",
   "mimetype": "text/x-python",
   "name": "python",
   "nbconvert_exporter": "python",
   "pygments_lexer": "ipython3",
   "version": "3.8.10"
  }
 },
 "nbformat": 4,
 "nbformat_minor": 5
}
